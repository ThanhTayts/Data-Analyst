{
 "cells": [
  {
   "cell_type": "code",
   "execution_count": 1,
   "metadata": {},
   "outputs": [],
   "source": [
    "# import các thư viện cần thiết\n",
    "import pandas as pd\n",
    "from scipy import  stats\n",
    "# đọc dữ liệu từ file csv\n",
    "df = pd.read_csv(\"shopeep_koreantop_clothing_shop_data.csv\", encoding=\"UTF-8\")"
   ]
  },
  {
   "cell_type": "markdown",
   "metadata": {},
   "source": [
    "#### Giữa rating_star và follower_count có tương quan với nhau hay không\n",
    "rating_star và follower_count là hai thuộc tính định lượng, sử dụng kiểm định pearson để kiểm định mức độ tương quan giữa hai thuộc tính\n",
    "Giả thuyết không: Giữa hai thuộc tính không có sự tương quan tuyến tính\n",
    "Giả thuyết đối: Giữa hai thuộc tính có sự tương quan tuyến tính"
   ]
  },
  {
   "cell_type": "code",
   "execution_count": 2,
   "metadata": {},
   "outputs": [
    {
     "name": "stdout",
     "output_type": "stream",
     "text": [
      "(0.02749005984630104, 0.4552522676325689)\n"
     ]
    }
   ],
   "source": [
    "df1 = df.filter([\"rating_star\", \"follower_count\"])\n",
    "df1 = df1.dropna()\n",
    "print(stats.pearsonr(df1.rating_star, df1.follower_count))"
   ]
  },
  {
   "cell_type": "markdown",
   "metadata": {},
   "source": [
    "#### do p value > 5% nên không có đủ cơ sở bác bỏ giả thuyết không\n",
    "#### Kết luận: giữa rating_star và follower_count không có mối tương quan tuyến tính"
   ]
  },
  {
   "cell_type": "markdown",
   "metadata": {},
   "source": [
    "#### Giữa rating_star và số lượng sản phẩm (item_count) có tương quan với nhau hay không\n",
    "rating_star và item_count là hai thuộc tính định lượng, sử dụng kiểm định pearson để kiểm định mức độ tương quan giữa hai thuộc tính\n",
    "Giả thuyết không: Giữa hai thuộc tính không có sự tương quan tuyến tính\n",
    "Giả thuyết đối: Giữa hai thuộc tính có sự tương quan tuyến tính"
   ]
  },
  {
   "cell_type": "code",
   "execution_count": 3,
   "metadata": {},
   "outputs": [
    {
     "name": "stdout",
     "output_type": "stream",
     "text": [
      "(-0.0373262607092073, 0.3105727616062792)\n"
     ]
    }
   ],
   "source": [
    "df1 = df.filter([\"rating_star\", \"item_count\"])\n",
    "df1 = df1.dropna()\n",
    "print(stats.pearsonr(df1.rating_star, df1.item_count))"
   ]
  },
  {
   "cell_type": "markdown",
   "metadata": {},
   "source": [
    "#### do p value > 5% nên không có đủ cơ sở bác bỏ giả thuyết không\n",
    "Kết luận: giữa rating_star và item_count không có mối tương quan tuyến tính"
   ]
  },
  {
   "cell_type": "markdown",
   "metadata": {},
   "source": [
    "#### Giữa is_shopee_verified và việc có cửa hàng trưng bày (is_official_shop) có tương quan với nhau hay không\n",
    "is_shopee_verified và item_count là hai thuộc tính định lượng, sử dụng kiểm định pearson để kiểm định mức độ tương quan giữa hai thuộc tính\n",
    "Giả thuyết không: Giữa hai thuộc tính không có sự tương quan tuyến tính\n",
    "Giả thuyết đối: Giữa hai thuộc tính có sự tương quan tuyến tính"
   ]
  }
 ],
 "metadata": {
  "interpreter": {
   "hash": "48e5ff3c60281fd7a3c480bdb729a0675f03944297a214f34a12dc44eb30c30c"
  },
  "kernelspec": {
   "display_name": "Python 3.8.8 ('base')",
   "language": "python",
   "name": "python3"
  },
  "language_info": {
   "codemirror_mode": {
    "name": "ipython",
    "version": 3
   },
   "file_extension": ".py",
   "mimetype": "text/x-python",
   "name": "python",
   "nbconvert_exporter": "python",
   "pygments_lexer": "ipython3",
   "version": "3.8.8"
  },
  "orig_nbformat": 4
 },
 "nbformat": 4,
 "nbformat_minor": 2
}
