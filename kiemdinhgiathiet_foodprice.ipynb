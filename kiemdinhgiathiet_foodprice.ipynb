{
 "cells": [
  {
   "cell_type": "code",
   "execution_count": 1,
   "metadata": {},
   "outputs": [],
   "source": [
    "# import thư viện\n",
    "import pandas as pd\n",
    "from scipy import stats\n",
    "import matplotlib.pyplot as plt"
   ]
  },
  {
   "cell_type": "code",
   "execution_count": 2,
   "metadata": {},
   "outputs": [
    {
     "name": "stdout",
     "output_type": "stream",
     "text": [
      "<class 'pandas.core.frame.DataFrame'>\n",
      "RangeIndex: 7381 entries, 0 to 7380\n",
      "Data columns (total 8 columns):\n",
      " #   Column       Non-Null Count  Dtype  \n",
      "---  ------       --------------  -----  \n",
      " 0   Place        7381 non-null   object \n",
      " 1   ProductId    7381 non-null   int64  \n",
      " 2   ProductName  7381 non-null   object \n",
      " 3   UmId         7381 non-null   int64  \n",
      " 4   UmName       7381 non-null   object \n",
      " 5   Month        7381 non-null   int64  \n",
      " 6   Year         7381 non-null   int64  \n",
      " 7   Price        7381 non-null   float64\n",
      "dtypes: float64(1), int64(4), object(3)\n",
      "memory usage: 461.4+ KB\n"
     ]
    }
   ],
   "source": [
    "# đọc dữ liệu \n",
    "df = pd.read_csv('FoodPrice_in_Turkey.csv')\n",
    "df.info()"
   ]
  },
  {
   "cell_type": "markdown",
   "metadata": {},
   "source": [
    "#### 1. với mức ý nghĩa 5% kiểm định giả thuyết giá bán gạo trung bình năm 2019 là 10 Lira/kg"
   ]
  },
  {
   "cell_type": "code",
   "execution_count": 3,
   "metadata": {},
   "outputs": [
    {
     "name": "stdout",
     "output_type": "stream",
     "text": [
      "['Rice - Retail', 'Wheat flour - Retail', 'Beans (white) - Retail', 'Potatoes - Retail', 'Eggs - Retail', 'Meat (chicken) - Retail', 'Sugar - Retail', 'Garlic - Retail', 'Lentils - Retail', 'Pasta - Retail', 'Tomatoes - Retail', 'Groundnuts (shelled) - Retail', 'Bread (common) - Retail', 'Coffee - Retail', 'Onions - Retail', 'Tea (green) - Retail', 'Cabbage - Retail', 'Meat (mutton) - Retail', 'Oil (sunflower) - Retail', 'Salt - Retail', 'Coffee (instant) - Retail', 'Peas (green, dry) - Retail', 'Apples (red) - Retail', 'Cauliflower - Retail', 'Cucumbers (greenhouse) - Retail', 'Oil (olive) - Retail', 'Chickpeas - Retail', 'Bananas - Retail', 'Bulgur - Retail', 'Tea - Retail', 'Fuel (petrol-gasoline) - Retail', 'Transport (public) - Retail', 'Tomatoes (paste) - Retail', 'Fuel (gas) - Retail', 'Apples - Retail', 'Oranges - Retail', 'Yogurt - Retail', 'Bread (pita) - Retail', 'Cucumbers - Retail', 'Fish (fresh) - Retail', 'Spinach - Retail', 'Cheese - Retail', 'Meat (veal) - Retail', 'Eggplants - Retail', 'Milk (powder, infant formula) - Retail', 'Zucchini - Retail', 'Milk (pasteurized) - Retail', 'Wage (non-qualified labour, non-agricultural) - Retail', 'Electricity - Retail', 'Tea (herbal) - Retail', 'Water - Retail', 'Cocoa (powder) - Retail']\n"
     ]
    }
   ],
   "source": [
    "#liệt kê tên các sản phẩm\n",
    "product_names = list(df['ProductName'].unique()) \n",
    "print(product_names)"
   ]
  },
  {
   "cell_type": "code",
   "execution_count": 4,
   "metadata": {},
   "outputs": [
    {
     "name": "stdout",
     "output_type": "stream",
     "text": [
      "Số lượng bản ghi của gạo năm 2019: 48\n"
     ]
    }
   ],
   "source": [
    "# Lọc những bản ghi liên quan tới giá gạo năm 2019\n",
    "df_rice = df.loc[(df.ProductName== 'Rice - Retail') & (df.Year == 2019)]\n",
    "print ('Số lượng bản ghi của gạo năm 2019: ' +str(df_rice.shape[0])) "
   ]
  },
  {
   "cell_type": "code",
   "execution_count": 5,
   "metadata": {},
   "outputs": [
    {
     "data": {
      "image/png": "[encoded data removed]",
      "text/plain": [
       "<Figure size 432x288 with 1 Axes>"
      ]
     },
     "metadata": {
      "needs_background": "light"
     },
     "output_type": "display_data"
    }
   ],
   "source": [
    "df_rice.Price.hist();"
   ]
  },
  {
   "cell_type": "markdown",
   "metadata": {},
   "source": [
    "##### Do phân bố có xu hướng gần giống phân bố chuẩn, nên lựa chọn thực hiện kiểm định 2 phía với one sample T test\n",
    "Giả thuyết không: Giá gạo trung bình = 9.5\n",
    "Giả thuyết đối: Giá gạo trung bình # 9.5"
   ]
  },
  {
   "cell_type": "code",
   "execution_count": 6,
   "metadata": {},
   "outputs": [
    {
     "name": "stdout",
     "output_type": "stream",
     "text": [
      "Ttest_1sampResult(statistic=-1.1854023812590566, pvalue=0.24181730968913567)\n"
     ]
    }
   ],
   "source": [
    "print( stats.ttest_1samp(df_rice.Price, 9.5))"
   ]
  },
  {
   "cell_type": "markdown",
   "metadata": {},
   "source": [
    "##### Giá trị pvalue >5% nên không đủ cơ sở để để bác bỏ giả thuyết không\n",
    "Kết luận: Với mức ý nghĩa 5% có thể nhận định giá gạo trung bình bằng 9.5 Lira/kg"
   ]
  },
  {
   "cell_type": "markdown",
   "metadata": {},
   "source": [
    "#### 2. Với mức ý nghĩa 5% hãy kiểm định giả thuyết: Giá bột mỳ và giá gạo ở Turkey năm 2019 là bằng nhau"
   ]
  },
  {
   "cell_type": "code",
   "execution_count": 7,
   "metadata": {},
   "outputs": [
    {
     "name": "stdout",
     "output_type": "stream",
     "text": [
      "Số lượng bản ghi của bột mỳ năm 2019: 48\n"
     ]
    },
    {
     "data": {
      "image/png": "[encoded data removed]",
      "text/plain": [
       "<Figure size 432x288 with 1 Axes>"
      ]
     },
     "metadata": {
      "needs_background": "light"
     },
     "output_type": "display_data"
    }
   ],
   "source": [
    "# lấy thông tin bột mỳ năm 2019\n",
    "df_wheat = df.loc[(df.ProductName== 'Wheat flour - Retail') & (df.Year == 2019)]\n",
    "print ('Số lượng bản ghi của bột mỳ năm 2019: '+str(df_wheat.shape[0])) \n",
    "import seaborn as sns\n",
    "# Tạo boxplot so sánh phân bố của bột mỳ vào gao\n",
    "price = {'rice': list(df_rice[\"Price\"]), 'wheat': list(df_wheat['Price'])}\n",
    "df_price = pd.DataFrame(price)\n",
    "sns.boxplot(data=df_price)\n",
    "plt.show()"
   ]
  },
  {
   "cell_type": "markdown",
   "metadata": {},
   "source": [
    "##### Nhìn vào phân bố trên chúng ta cũng có thể kết luận được luôn, giá của bột mì thấp hơn hẳn giá của gạo. Để chứng minh nhận định rằng giá bột mỳ và giá gạo không giống nhau, chúng ta thực hiện so sánh trung bình độc lập – independent T test Giả thuyết không: giá bột mỳ trung bình bằng giá gạo Giả thuyết đối: giá bột mỳ trung bình khác giá gạo"
   ]
  },
  {
   "cell_type": "code",
   "execution_count": 8,
   "metadata": {},
   "outputs": [
    {
     "name": "stdout",
     "output_type": "stream",
     "text": [
      "Ttest_indResult(statistic=53.7516920363042, pvalue=7.11046528586048e-55)\n"
     ]
    }
   ],
   "source": [
    "print(stats.ttest_ind(price['rice'], price['wheat'], equal_var=False))"
   ]
  },
  {
   "cell_type": "markdown",
   "metadata": {},
   "source": [
    "##### Chúng ta có thể thấy Pvalue = 7.1.10^-55 <<5%, bác bỏ giả thuyết không, chấp nhận giả thuyết đối\n",
    "Kết luận: giá bột mỳ và giá gạo trung bình năm 2019 là khác nhau"
   ]
  },
  {
   "cell_type": "markdown",
   "metadata": {},
   "source": [
    "#### 3. Vẽ biểu đồ sự biến đổi giá gạo trung bình từ năm 1/2014 đến năm 1/2019 và tìm mối liên hệ giữa giá Trà và giá Cà phê"
   ]
  },
  {
   "cell_type": "code",
   "execution_count": 9,
   "metadata": {},
   "outputs": [],
   "source": [
    "# xóa những biến không cần thiết\n",
    "del (df_rice, df_price, df_wheat, price)"
   ]
  },
  {
   "cell_type": "code",
   "execution_count": 10,
   "metadata": {},
   "outputs": [
    {
     "data": {
      "text/plain": [
       "[<matplotlib.lines.Line2D at 0x1a5da1ea970>]"
      ]
     },
     "execution_count": 10,
     "metadata": {},
     "output_type": "execute_result"
    },
    {
     "data": {
      "image/png": "[encoded data removed]",
      "text/plain": [
       "<Figure size 432x288 with 1 Axes>"
      ]
     },
     "metadata": {
      "needs_background": "light"
     },
     "output_type": "display_data"
    }
   ],
   "source": [
    "# chuyển đổi dữ liệu ngày tháng\n",
    "df['time'] =  pd.to_datetime(df['Year'].astype(str) + '/'+df['Month'].astype(str))\n",
    "# thực hiện tính toán và vẽ giá trà, caffe theo tháng\n",
    "df_Tea_all = df.loc[(df.ProductName == 'Tea - Retail')]\n",
    "df_Tea_all_mean_by_month = df_Tea_all.groupby('time')['Price'].mean()\n",
    "plt.plot_date(df_Tea_all_mean_by_month.index, df_Tea_all_mean_by_month.values, linestyle ='solid')\n",
    "\n",
    "df_Coffee_all = df.loc[(df.ProductName == 'Coffee - Retail')]\n",
    "df_Coffee_all_mean_by_month = df_Coffee_all.groupby('time')['Price'].mean()\n",
    "plt.plot_date(df_Coffee_all_mean_by_month.index, df_Coffee_all_mean_by_month.values, linestyle ='solid')"
   ]
  },
  {
   "cell_type": "markdown",
   "metadata": {},
   "source": [
    "##### biến đổi dữ liệu: Để tiến hành so sánh được giá trà và giá caphe có chênh nhau không, chúng ta cần so sánh sự khác biệt giữa giá trà và giá cà phê theo cùng thời gian và địa điểm"
   ]
  },
  {
   "cell_type": "code",
   "execution_count": 11,
   "metadata": {},
   "outputs": [
    {
     "name": "stderr",
     "output_type": "stream",
     "text": [
      "C:\\Users\\Admin\\AppData\\Local\\Temp/ipykernel_11748/3327696158.py:5: SettingWithCopyWarning: \n",
      "A value is trying to be set on a copy of a slice from a DataFrame.\n",
      "Try using .loc[row_indexer,col_indexer] = value instead\n",
      "\n",
      "See the caveats in the documentation: https://pandas.pydata.org/pandas-docs/stable/user_guide/indexing.html#returning-a-view-versus-a-copy\n",
      "  df_tea_and_coffee['time-place'] = df_tea_and_coffee['time'].astype(str) +'-'+df_tea_and_coffee['Place']\n"
     ]
    },
    {
     "data": {
      "text/html": [
       "<div>\n",
       "<style scoped>\n",
       "    .dataframe tbody tr th:only-of-type {\n",
       "        vertical-align: middle;\n",
       "    }\n",
       "\n",
       "    .dataframe tbody tr th {\n",
       "        vertical-align: top;\n",
       "    }\n",
       "\n",
       "    .dataframe thead th {\n",
       "        text-align: right;\n",
       "    }\n",
       "</style>\n",
       "<table border=\"1\" class=\"dataframe\">\n",
       "  <thead>\n",
       "    <tr style=\"text-align: right;\">\n",
       "      <th></th>\n",
       "      <th>time-place</th>\n",
       "      <th>Tea - Retail</th>\n",
       "      <th>Coffee - Retail</th>\n",
       "    </tr>\n",
       "  </thead>\n",
       "  <tbody>\n",
       "    <tr>\n",
       "      <th>0</th>\n",
       "      <td>2013-05-01-National Average</td>\n",
       "      <td>14.0201</td>\n",
       "      <td>30.8937</td>\n",
       "    </tr>\n",
       "    <tr>\n",
       "      <th>1</th>\n",
       "      <td>2013-06-01-National Average</td>\n",
       "      <td>14.0003</td>\n",
       "      <td>31.0164</td>\n",
       "    </tr>\n",
       "    <tr>\n",
       "      <th>2</th>\n",
       "      <td>2013-11-01-National Average</td>\n",
       "      <td>14.1921</td>\n",
       "      <td>30.7445</td>\n",
       "    </tr>\n",
       "    <tr>\n",
       "      <th>3</th>\n",
       "      <td>2013-12-01-National Average</td>\n",
       "      <td>14.3991</td>\n",
       "      <td>30.9079</td>\n",
       "    </tr>\n",
       "    <tr>\n",
       "      <th>4</th>\n",
       "      <td>2014-01-01-National Average</td>\n",
       "      <td>15.2072</td>\n",
       "      <td>31.2607</td>\n",
       "    </tr>\n",
       "  </tbody>\n",
       "</table>\n",
       "</div>"
      ],
      "text/plain": [
       "                    time-place  Tea - Retail  Coffee - Retail\n",
       "0  2013-05-01-National Average       14.0201          30.8937\n",
       "1  2013-06-01-National Average       14.0003          31.0164\n",
       "2  2013-11-01-National Average       14.1921          30.7445\n",
       "3  2013-12-01-National Average       14.3991          30.9079\n",
       "4  2014-01-01-National Average       15.2072          31.2607"
      ]
     },
     "execution_count": 11,
     "metadata": {},
     "output_type": "execute_result"
    }
   ],
   "source": [
    "# Tiền xử lý dữ liệu\n",
    "# Tạo một data frame thông tin gồm chứa time - place, giá trà, giá cafe\n",
    "df_tea_and_coffee = df.loc[(df.ProductName.isin(['Tea - Retail','Coffee - Retail']))]\n",
    "\n",
    "df_tea_and_coffee['time-place'] = df_tea_and_coffee['time'].astype(str) +'-'+df_tea_and_coffee['Place']\n",
    "df1 = df_tea_and_coffee[df_tea_and_coffee.ProductName =='Tea - Retail'].filter(['time-place',  'Price'])\n",
    "df1 = df1.rename(columns = {'Price':'Tea - Retail'})\n",
    "\n",
    "df2 = df_tea_and_coffee[df_tea_and_coffee.ProductName =='Coffee - Retail'].filter(['time-place', 'Price'])\n",
    "df2 = df2.rename(columns = {'Price':'Coffee - Retail'})\n",
    "\n",
    "Processed_data = pd.merge(df1, df2, on = 'time-place')\n",
    "Processed_data.head()"
   ]
  },
  {
   "cell_type": "markdown",
   "metadata": {},
   "source": [
    "##### Tiến hành kiểm định: Thực hiện kiểm định wilcoxon 1 phía với giả thuyết như sau\n",
    "Giả thuyết không: giá cà phê bằng giá trà công thêm 15 Lira ở mọi thời điểm\n",
    "Giả thuyết đối: Giá giá cà phê luôn hơn giá trà 15 Lira ở mọi thời điểm"
   ]
  },
  {
   "cell_type": "code",
   "execution_count": 12,
   "metadata": {},
   "outputs": [
    {
     "data": {
      "text/plain": [
       "WilcoxonResult(statistic=9838.0, pvalue=0.0004122034397612688)"
      ]
     },
     "execution_count": 12,
     "metadata": {},
     "output_type": "execute_result"
    }
   ],
   "source": [
    "# thực hiện biến đổi dữ liệu\n",
    "d = Processed_data['Coffee - Retail']-Processed_data['Tea - Retail'] - 15\n",
    "# Thực hiện kiểm định wilcolxon\n",
    "from scipy import stats\n",
    "# thực hiện kiểm định với giả thuyết đối được định nghĩa ở trên\n",
    "stats.wilcoxon(d, alternative='greater')"
   ]
  },
  {
   "cell_type": "markdown",
   "metadata": {},
   "source": [
    "##### Do pvalue <1% rất nhiều –> Bác bỏ giả thuyết không, chấp nhận giả thuyết đối Giá Cà phê luôn lớn hơn giá trà ít nhất 15 lira mà không bị ảnh hưởng bởi thời gian hay địa điểm"
   ]
  }
 ],
 "metadata": {
  "interpreter": {
   "hash": "2469a70536e4d2335a2ea8907942d0699c37342a371ac185bdb5b0aa6f073890"
  },
  "kernelspec": {
   "display_name": "Python 3.9.2 64-bit",
   "language": "python",
   "name": "python3"
  },
  "language_info": {
   "codemirror_mode": {
    "name": "ipython",
    "version": 3
   },
   "file_extension": ".py",
   "mimetype": "text/x-python",
   "name": "python",
   "nbconvert_exporter": "python",
   "pygments_lexer": "ipython3",
   "version": "3.9.2"
  },
  "orig_nbformat": 4
 },
 "nbformat": 4,
 "nbformat_minor": 2
}
