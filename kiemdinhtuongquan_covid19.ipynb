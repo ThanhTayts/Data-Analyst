{
 "cells": [
  {
   "cell_type": "code",
   "execution_count": 4,
   "metadata": {},
   "outputs": [
    {
     "data": {
      "text/html": [
       "<div>\n",
       "<style scoped>\n",
       "    .dataframe tbody tr th:only-of-type {\n",
       "        vertical-align: middle;\n",
       "    }\n",
       "\n",
       "    .dataframe tbody tr th {\n",
       "        vertical-align: top;\n",
       "    }\n",
       "\n",
       "    .dataframe thead th {\n",
       "        text-align: right;\n",
       "    }\n",
       "</style>\n",
       "<table border=\"1\" class=\"dataframe\">\n",
       "  <thead>\n",
       "    <tr style=\"text-align: right;\">\n",
       "      <th></th>\n",
       "      <th>day</th>\n",
       "      <th>month</th>\n",
       "      <th>year</th>\n",
       "      <th>cases</th>\n",
       "      <th>deaths</th>\n",
       "      <th>population</th>\n",
       "    </tr>\n",
       "  </thead>\n",
       "  <tbody>\n",
       "    <tr>\n",
       "      <th>count</th>\n",
       "      <td>206.000000</td>\n",
       "      <td>206.000000</td>\n",
       "      <td>206.0</td>\n",
       "      <td>206.000000</td>\n",
       "      <td>206.000000</td>\n",
       "      <td>2.020000e+02</td>\n",
       "    </tr>\n",
       "    <tr>\n",
       "      <th>mean</th>\n",
       "      <td>12.024272</td>\n",
       "      <td>3.985437</td>\n",
       "      <td>2020.0</td>\n",
       "      <td>395.247573</td>\n",
       "      <td>29.713592</td>\n",
       "      <td>3.731716e+07</td>\n",
       "    </tr>\n",
       "    <tr>\n",
       "      <th>std</th>\n",
       "      <td>0.424141</td>\n",
       "      <td>0.209020</td>\n",
       "      <td>0.0</td>\n",
       "      <td>2160.176439</td>\n",
       "      <td>159.533131</td>\n",
       "      <td>1.413776e+08</td>\n",
       "    </tr>\n",
       "    <tr>\n",
       "      <th>min</th>\n",
       "      <td>11.000000</td>\n",
       "      <td>1.000000</td>\n",
       "      <td>2020.0</td>\n",
       "      <td>0.000000</td>\n",
       "      <td>0.000000</td>\n",
       "      <td>1.000000e+03</td>\n",
       "    </tr>\n",
       "    <tr>\n",
       "      <th>25%</th>\n",
       "      <td>12.000000</td>\n",
       "      <td>4.000000</td>\n",
       "      <td>2020.0</td>\n",
       "      <td>0.000000</td>\n",
       "      <td>0.000000</td>\n",
       "      <td>1.278222e+06</td>\n",
       "    </tr>\n",
       "    <tr>\n",
       "      <th>50%</th>\n",
       "      <td>12.000000</td>\n",
       "      <td>4.000000</td>\n",
       "      <td>2020.0</td>\n",
       "      <td>11.500000</td>\n",
       "      <td>0.000000</td>\n",
       "      <td>7.042862e+06</td>\n",
       "    </tr>\n",
       "    <tr>\n",
       "      <th>75%</th>\n",
       "      <td>12.000000</td>\n",
       "      <td>4.000000</td>\n",
       "      <td>2020.0</td>\n",
       "      <td>88.750000</td>\n",
       "      <td>3.000000</td>\n",
       "      <td>2.600084e+07</td>\n",
       "    </tr>\n",
       "    <tr>\n",
       "      <th>max</th>\n",
       "      <td>18.000000</td>\n",
       "      <td>4.000000</td>\n",
       "      <td>2020.0</td>\n",
       "      <td>28391.000000</td>\n",
       "      <td>1831.000000</td>\n",
       "      <td>1.392730e+09</td>\n",
       "    </tr>\n",
       "  </tbody>\n",
       "</table>\n",
       "</div>"
      ],
      "text/plain": [
       "              day       month    year         cases       deaths    population\n",
       "count  206.000000  206.000000   206.0    206.000000   206.000000  2.020000e+02\n",
       "mean    12.024272    3.985437  2020.0    395.247573    29.713592  3.731716e+07\n",
       "std      0.424141    0.209020     0.0   2160.176439   159.533131  1.413776e+08\n",
       "min     11.000000    1.000000  2020.0      0.000000     0.000000  1.000000e+03\n",
       "25%     12.000000    4.000000  2020.0      0.000000     0.000000  1.278222e+06\n",
       "50%     12.000000    4.000000  2020.0     11.500000     0.000000  7.042862e+06\n",
       "75%     12.000000    4.000000  2020.0     88.750000     3.000000  2.600084e+07\n",
       "max     18.000000    4.000000  2020.0  28391.000000  1831.000000  1.392730e+09"
      ]
     },
     "execution_count": 4,
     "metadata": {},
     "output_type": "execute_result"
    }
   ],
   "source": [
    "# khai báo thư viện\n",
    "import pandas as pd\n",
    "from scipy import  stats\n",
    "# đọc bộ dữ liệu\n",
    "df = pd.read_csv(\"subset-covid-data.csv\")\n",
    "df.describe()"
   ]
  },
  {
   "cell_type": "markdown",
   "metadata": {},
   "source": [
    "#### Có mối tương quan nào giữa số ca mắc và ca tử vong ở các quốc gia hay không\n",
    "Do số ca nhiễm (cases) và dân số (population) đều là thuộc tính định lượng nên sử dụng kiểm định pearson\n",
    "Giả thuyết không: Không có mối tương quan tuyến tính giữa hai biến\n",
    "Giả thuyết đối: Không có mối tương quan tuyến tính giữa hai biến"
   ]
  },
  {
   "cell_type": "code",
   "execution_count": 5,
   "metadata": {},
   "outputs": [
    {
     "name": "stdout",
     "output_type": "stream",
     "text": [
      "r:  0.17553926594294003 ; pvalue:  0.01246031070420893\n"
     ]
    }
   ],
   "source": [
    "# lọc dữ liệu\n",
    "df1 = df.filter(['cases', 'population'])\n",
    "# xóa bỏ dữ liệu null\n",
    "df1 = df1.dropna()\n",
    "r, pvalue = stats.pearsonr(df1.cases, df1.population)\n",
    "print (\"r: \", r, \"; pvalue: \", pvalue)"
   ]
  },
  {
   "cell_type": "markdown",
   "metadata": {},
   "source": [
    "##### Nhận xét: do pvalue <5%, nên với mức ý nghĩa 5% bác bỏ giả thuyết không, chấp nhận giả thuyết đối\n",
    "##### Kết luận: Giữa dân số và số ca nhiễm có tương quan tuyến tính yếu với nhau"
   ]
  },
  {
   "cell_type": "markdown",
   "metadata": {},
   "source": [
    "#### Có mối tương quan nào giữa số ca mắc (cases) và số ca tử vong (deaths) hay không\n",
    "Do số ca nhiễm (cases) và số ca tử vong (deaths) đều là thuộc tính định lượng nên sử dụng kiểm định pearson\n",
    "Giả thuyết không: Không có mối tương quan tuyến tính giữa hai biến\n",
    "Giả thuyết đối: Không có mối tương quan tuyến tính giữa hai biến"
   ]
  },
  {
   "cell_type": "code",
   "execution_count": 6,
   "metadata": {},
   "outputs": [
    {
     "name": "stdout",
     "output_type": "stream",
     "text": [
      "r:  0.9432201374746727 ; pvalue:  1.3451948745846463e-99\n"
     ]
    }
   ],
   "source": [
    "# lọc dữ liệu\n",
    "df2 = df.filter(['cases', 'deaths'])\n",
    "# xóa bỏ dữ liệu null\n",
    "df2 = df2.dropna()\n",
    "r, pvalue = stats.pearsonr(df2.cases, df2.deaths)\n",
    "print (\"r: \", r, \"; pvalue: \", pvalue)"
   ]
  },
  {
   "cell_type": "markdown",
   "metadata": {},
   "source": [
    "##### Nhận xét: do pvalue ~0, nên với mức ý nghĩa 5% bác bỏ giả thuyết không, chấp nhận giả thuyết đối\n",
    "##### Kết luận: Giữa số ca mắc và số ca tử vong có tương quan tuyến tính mạnh với nhau"
   ]
  },
  {
   "cell_type": "markdown",
   "metadata": {},
   "source": [
    "#### Biến đổi lại thuộc tính population về dạng thứ bậc thực hiện kiểm định tương quan giữa biến này với số ca nhiễm"
   ]
  },
  {
   "cell_type": "code",
   "execution_count": 7,
   "metadata": {},
   "outputs": [
    {
     "data": {
      "text/html": [
       "<div>\n",
       "<style scoped>\n",
       "    .dataframe tbody tr th:only-of-type {\n",
       "        vertical-align: middle;\n",
       "    }\n",
       "\n",
       "    .dataframe tbody tr th {\n",
       "        vertical-align: top;\n",
       "    }\n",
       "\n",
       "    .dataframe thead th {\n",
       "        text-align: right;\n",
       "    }\n",
       "</style>\n",
       "<table border=\"1\" class=\"dataframe\">\n",
       "  <thead>\n",
       "    <tr style=\"text-align: right;\">\n",
       "      <th></th>\n",
       "      <th>cases</th>\n",
       "      <th>population</th>\n",
       "      <th>population_ordinal</th>\n",
       "    </tr>\n",
       "  </thead>\n",
       "  <tbody>\n",
       "    <tr>\n",
       "      <th>0</th>\n",
       "      <td>34</td>\n",
       "      <td>37172386.0</td>\n",
       "      <td>4</td>\n",
       "    </tr>\n",
       "    <tr>\n",
       "      <th>1</th>\n",
       "      <td>17</td>\n",
       "      <td>2866376.0</td>\n",
       "      <td>2</td>\n",
       "    </tr>\n",
       "    <tr>\n",
       "      <th>2</th>\n",
       "      <td>64</td>\n",
       "      <td>42228429.0</td>\n",
       "      <td>4</td>\n",
       "    </tr>\n",
       "    <tr>\n",
       "      <th>3</th>\n",
       "      <td>21</td>\n",
       "      <td>77006.0</td>\n",
       "      <td>1</td>\n",
       "    </tr>\n",
       "    <tr>\n",
       "      <th>4</th>\n",
       "      <td>0</td>\n",
       "      <td>30809762.0</td>\n",
       "      <td>4</td>\n",
       "    </tr>\n",
       "  </tbody>\n",
       "</table>\n",
       "</div>"
      ],
      "text/plain": [
       "   cases  population  population_ordinal\n",
       "0     34  37172386.0                   4\n",
       "1     17   2866376.0                   2\n",
       "2     64  42228429.0                   4\n",
       "3     21     77006.0                   1\n",
       "4      0  30809762.0                   4"
      ]
     },
     "execution_count": 7,
     "metadata": {},
     "output_type": "execute_result"
    }
   ],
   "source": [
    "# tiến hành tính các khoảng tứ phân vị của population\n",
    "q1, q2, q3  = df1.population.quantile(0.25), df1.population.quantile(0.5), df1.population.quantile(0.75)\n",
    "# tiến hành biến đổi population\n",
    "def population_order(population):\n",
    "    if population < q1:\n",
    "        return 1\n",
    "    elif population>=q1 and population <q2:\n",
    "        return 2\n",
    "    elif population>=q2 and population <q3:\n",
    "        return 3\n",
    "    else: \n",
    "        return 4\n",
    "\n",
    "df1['population_ordinal']=df1.population.apply(population_order)\n",
    "df1.head()"
   ]
  },
  {
   "cell_type": "markdown",
   "metadata": {},
   "source": [
    "#### Tiến hành kiểm định. Do population_ordinal là dữ liệu kiểu thứ bậc nên sử dụng kiểm định spearman để kiểm định tương quan giữa population_ordinal và cases\n",
    "Giả thuyết không: Giữa population_ordinal và case không có tương quan Giả thuyết đối: Giữa population_ordinal và case có tương quan"
   ]
  },
  {
   "cell_type": "code",
   "execution_count": 8,
   "metadata": {},
   "outputs": [
    {
     "name": "stdout",
     "output_type": "stream",
     "text": [
      "r:  0.49498466493711596 ; pvalue:  6.982786622314858e-14\n"
     ]
    }
   ],
   "source": [
    "r, pvalue = stats.spearmanr(df1.cases, df1.population_ordinal)\n",
    "print (\"r: \", r, \"; pvalue: \", pvalue)"
   ]
  },
  {
   "cell_type": "markdown",
   "metadata": {},
   "source": [
    "#### Pvalue ~0, và r~0.5 chứng tỏ giữa thuộc tính population_ordinal và số ca nhiễm bệnh có tương quan với nhau. Như vậy có thể thấy, việc biến đổi dữ liệu thành các khoảng có thể làm nổi bật thông tin tương quan giữa cá thuộc tính."
   ]
  }
 ],
 "metadata": {
  "interpreter": {
   "hash": "2469a70536e4d2335a2ea8907942d0699c37342a371ac185bdb5b0aa6f073890"
  },
  "kernelspec": {
   "display_name": "Python 3.9.2 64-bit",
   "language": "python",
   "name": "python3"
  },
  "language_info": {
   "codemirror_mode": {
    "name": "ipython",
    "version": 3
   },
   "file_extension": ".py",
   "mimetype": "text/x-python",
   "name": "python",
   "nbconvert_exporter": "python",
   "pygments_lexer": "ipython3",
   "version": "3.9.2"
  },
  "orig_nbformat": 4
 },
 "nbformat": 4,
 "nbformat_minor": 2
}
