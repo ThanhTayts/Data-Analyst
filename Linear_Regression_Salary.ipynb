{
 "cells": [
  {
   "cell_type": "code",
   "execution_count": 1,
   "metadata": {},
   "outputs": [
    {
     "data": {
      "text/html": [
       "<div>\n",
       "<style scoped>\n",
       "    .dataframe tbody tr th:only-of-type {\n",
       "        vertical-align: middle;\n",
       "    }\n",
       "\n",
       "    .dataframe tbody tr th {\n",
       "        vertical-align: top;\n",
       "    }\n",
       "\n",
       "    .dataframe thead th {\n",
       "        text-align: right;\n",
       "    }\n",
       "</style>\n",
       "<table border=\"1\" class=\"dataframe\">\n",
       "  <thead>\n",
       "    <tr style=\"text-align: right;\">\n",
       "      <th></th>\n",
       "      <th>SoNamKinhNghiem</th>\n",
       "      <th>Luong</th>\n",
       "      <th>NganhNghe</th>\n",
       "    </tr>\n",
       "  </thead>\n",
       "  <tbody>\n",
       "    <tr>\n",
       "      <th>1416</th>\n",
       "      <td>4</td>\n",
       "      <td>14.9</td>\n",
       "      <td>Sale</td>\n",
       "    </tr>\n",
       "    <tr>\n",
       "      <th>1417</th>\n",
       "      <td>1</td>\n",
       "      <td>9.5</td>\n",
       "      <td>Sale</td>\n",
       "    </tr>\n",
       "    <tr>\n",
       "      <th>1418</th>\n",
       "      <td>8</td>\n",
       "      <td>22.9</td>\n",
       "      <td>Sale</td>\n",
       "    </tr>\n",
       "    <tr>\n",
       "      <th>1419</th>\n",
       "      <td>1</td>\n",
       "      <td>9.4</td>\n",
       "      <td>Sale</td>\n",
       "    </tr>\n",
       "    <tr>\n",
       "      <th>1420</th>\n",
       "      <td>9</td>\n",
       "      <td>25.0</td>\n",
       "      <td>Sale</td>\n",
       "    </tr>\n",
       "    <tr>\n",
       "      <th>1421</th>\n",
       "      <td>8</td>\n",
       "      <td>22.8</td>\n",
       "      <td>Sale</td>\n",
       "    </tr>\n",
       "    <tr>\n",
       "      <th>1422</th>\n",
       "      <td>6</td>\n",
       "      <td>18.7</td>\n",
       "      <td>Sale</td>\n",
       "    </tr>\n",
       "    <tr>\n",
       "      <th>1423</th>\n",
       "      <td>0</td>\n",
       "      <td>7.3</td>\n",
       "      <td>Sale</td>\n",
       "    </tr>\n",
       "    <tr>\n",
       "      <th>1424</th>\n",
       "      <td>0</td>\n",
       "      <td>7.2</td>\n",
       "      <td>Sale</td>\n",
       "    </tr>\n",
       "    <tr>\n",
       "      <th>1425</th>\n",
       "      <td>10</td>\n",
       "      <td>27.0</td>\n",
       "      <td>Sale</td>\n",
       "    </tr>\n",
       "  </tbody>\n",
       "</table>\n",
       "</div>"
      ],
      "text/plain": [
       "      SoNamKinhNghiem  Luong NganhNghe\n",
       "1416                4   14.9      Sale\n",
       "1417                1    9.5      Sale\n",
       "1418                8   22.9      Sale\n",
       "1419                1    9.4      Sale\n",
       "1420                9   25.0      Sale\n",
       "1421                8   22.8      Sale\n",
       "1422                6   18.7      Sale\n",
       "1423                0    7.3      Sale\n",
       "1424                0    7.2      Sale\n",
       "1425               10   27.0      Sale"
      ]
     },
     "execution_count": 1,
     "metadata": {},
     "output_type": "execute_result"
    }
   ],
   "source": [
    "# import thư viện cần thiết\n",
    "import pandas as pd # Khai báo thư viện hỗ trợ đọc và phân tích dữ liệu ở dạng bảng\n",
    "dataset = pd.read_csv(\"salary_data.csv\") # Lấy dữ liệu từ file work_data.csv đê phân tích và đặt tên dữ liệu đó là dataset\n",
    "dataset.tail(10) # xem 5 dòng đầu tiên của bảng dữ liệu"
   ]
  },
  {
   "cell_type": "markdown",
   "metadata": {},
   "source": [
    "#### Mô tả bộ dữ liệu"
   ]
  },
  {
   "cell_type": "code",
   "execution_count": 2,
   "metadata": {},
   "outputs": [
    {
     "data": {
      "text/plain": [
       "(1426, 3)"
      ]
     },
     "execution_count": 2,
     "metadata": {},
     "output_type": "execute_result"
    }
   ],
   "source": [
    "dataset.shape # số lượng quan sát"
   ]
  },
  {
   "cell_type": "code",
   "execution_count": 3,
   "metadata": {},
   "outputs": [
    {
     "data": {
      "text/html": [
       "<div>\n",
       "<style scoped>\n",
       "    .dataframe tbody tr th:only-of-type {\n",
       "        vertical-align: middle;\n",
       "    }\n",
       "\n",
       "    .dataframe tbody tr th {\n",
       "        vertical-align: top;\n",
       "    }\n",
       "\n",
       "    .dataframe thead th {\n",
       "        text-align: right;\n",
       "    }\n",
       "</style>\n",
       "<table border=\"1\" class=\"dataframe\">\n",
       "  <thead>\n",
       "    <tr style=\"text-align: right;\">\n",
       "      <th></th>\n",
       "      <th>SoNamKinhNghiem</th>\n",
       "      <th>Luong</th>\n",
       "    </tr>\n",
       "  </thead>\n",
       "  <tbody>\n",
       "    <tr>\n",
       "      <th>count</th>\n",
       "      <td>1426.000000</td>\n",
       "      <td>1426.000000</td>\n",
       "    </tr>\n",
       "    <tr>\n",
       "      <th>mean</th>\n",
       "      <td>4.894109</td>\n",
       "      <td>16.316550</td>\n",
       "    </tr>\n",
       "    <tr>\n",
       "      <th>std</th>\n",
       "      <td>3.075541</td>\n",
       "      <td>6.548031</td>\n",
       "    </tr>\n",
       "    <tr>\n",
       "      <th>min</th>\n",
       "      <td>0.000000</td>\n",
       "      <td>5.400000</td>\n",
       "    </tr>\n",
       "    <tr>\n",
       "      <th>25%</th>\n",
       "      <td>2.000000</td>\n",
       "      <td>10.900000</td>\n",
       "    </tr>\n",
       "    <tr>\n",
       "      <th>50%</th>\n",
       "      <td>5.000000</td>\n",
       "      <td>16.200000</td>\n",
       "    </tr>\n",
       "    <tr>\n",
       "      <th>75%</th>\n",
       "      <td>7.000000</td>\n",
       "      <td>21.300000</td>\n",
       "    </tr>\n",
       "    <tr>\n",
       "      <th>max</th>\n",
       "      <td>10.000000</td>\n",
       "      <td>70.000000</td>\n",
       "    </tr>\n",
       "  </tbody>\n",
       "</table>\n",
       "</div>"
      ],
      "text/plain": [
       "       SoNamKinhNghiem        Luong\n",
       "count      1426.000000  1426.000000\n",
       "mean          4.894109    16.316550\n",
       "std           3.075541     6.548031\n",
       "min           0.000000     5.400000\n",
       "25%           2.000000    10.900000\n",
       "50%           5.000000    16.200000\n",
       "75%           7.000000    21.300000\n",
       "max          10.000000    70.000000"
      ]
     },
     "execution_count": 3,
     "metadata": {},
     "output_type": "execute_result"
    }
   ],
   "source": [
    "dataset.describe()"
   ]
  },
  {
   "cell_type": "code",
   "execution_count": 4,
   "metadata": {},
   "outputs": [
    {
     "data": {
      "image/png": "[encoded data removed]",
      "text/plain": [
       "<Figure size 432x288 with 1 Axes>"
      ]
     },
     "metadata": {
      "needs_background": "light"
     },
     "output_type": "display_data"
    }
   ],
   "source": [
    "import matplotlib.pyplot as plt  # Khai báo thư viện để vẽ hình\n",
    "dataset.plot(x='SoNamKinhNghiem', y='Luong', style='o')  \n",
    "plt.title('số năm kinh nghiệm - lương')  \n",
    "plt.xlabel('số năm kinh nghiệm')  \n",
    "plt.ylabel('lương')  \n",
    "plt.show()"
   ]
  },
  {
   "cell_type": "code",
   "execution_count": 5,
   "metadata": {},
   "outputs": [
    {
     "data": {
      "image/png": "[encoded data removed]",
      "text/plain": [
       "<Figure size 432x288 with 1 Axes>"
      ]
     },
     "metadata": {
      "needs_background": "light"
     },
     "output_type": "display_data"
    }
   ],
   "source": [
    "# vẽ biểu đồ histogram\n",
    "plt.hist(dataset['Luong'],20)\n",
    "plt.show()"
   ]
  },
  {
   "cell_type": "code",
   "execution_count": 6,
   "metadata": {},
   "outputs": [
    {
     "name": "stdout",
     "output_type": "stream",
     "text": [
      "Kết cấu bộ dữ liệu\n",
      "Số lượng mẫu nhân viên kế toán: 472\n",
      "Số lượng mẫu nhân viên HCNH: 566\n",
      "Số lượng mẫu nhân viên SALE: 388\n"
     ]
    }
   ],
   "source": [
    "df_keToan = dataset[dataset[\"NganhNghe\"] == \"KeToan\"]\n",
    "df_hcnh = dataset[dataset[\"NganhNghe\"] == \"HCNS\"]\n",
    "df_sale = dataset[dataset[\"NganhNghe\"] == \"Sale\"]\n",
    "\n",
    "print (\"Kết cấu bộ dữ liệu\")\n",
    "print (\"Số lượng mẫu nhân viên kế toán: \" + str(df_keToan.shape[0]))\n",
    "print (\"Số lượng mẫu nhân viên HCNH: \" + str(df_hcnh.shape[0]))\n",
    "print (\"Số lượng mẫu nhân viên SALE: \" + str(df_sale.shape[0]))"
   ]
  },
  {
   "cell_type": "code",
   "execution_count": 7,
   "metadata": {},
   "outputs": [
    {
     "data": {
      "text/plain": [
       "NganhNghe\n",
       "HCNS      16.556537\n",
       "KeToan    15.645975\n",
       "Sale      16.782216\n",
       "Name: Luong, dtype: float64"
      ]
     },
     "execution_count": 7,
     "metadata": {},
     "output_type": "execute_result"
    }
   ],
   "source": [
    "n_by_nganhNghe = dataset.groupby(\"NganhNghe\")[\"Luong\"].mean()\n",
    "n_by_nganhNghe"
   ]
  },
  {
   "cell_type": "code",
   "execution_count": 8,
   "metadata": {},
   "outputs": [
    {
     "data": {
      "image/png": "[encoded data removed]",
      "text/plain": [
       "<Figure size 432x288 with 1 Axes>"
      ]
     },
     "metadata": {
      "needs_background": "light"
     },
     "output_type": "display_data"
    }
   ],
   "source": [
    "# Biểu đồ phân bố lương của nhân viên Kế toán\n",
    "plt.boxplot(df_keToan['Luong'])\n",
    "plt.show()"
   ]
  },
  {
   "cell_type": "markdown",
   "metadata": {},
   "source": [
    "#### Xây dựng model dự đoán tiền lương theo số năm kinh nghiệm"
   ]
  },
  {
   "cell_type": "code",
   "execution_count": 9,
   "metadata": {},
   "outputs": [
    {
     "name": "stdout",
     "output_type": "stream",
     "text": [
      "Mô hình hồi quy sẽ có dạng: Lương = a + b * số năm kinh nghiệm \n",
      "với các hệ số a và b lần lượt là\n",
      "[6.35592115]\n",
      "[[2.03289729]]\n"
     ]
    }
   ],
   "source": [
    "from sklearn.model_selection import train_test_split \n",
    "from sklearn.linear_model import LinearRegression\n",
    "\n",
    "X = dataset['SoNamKinhNghiem'].values.reshape(-1,1)\n",
    "y = dataset['Luong'].values.reshape(-1,1)\n",
    "# chia bộ dữ liệu làm 2 tập train và test theo tỉ lệ 80% train, 20% test\n",
    "X_train, X_test, y_train, y_test = train_test_split(X, y, test_size=0.2, random_state=0) \n",
    "regressor = LinearRegression()  # Khai báo mô hình hồi quy tuyến tính\n",
    "regressor.fit(X_train, y_train) #Huấn luyện mô hình\n",
    "print( \"Mô hình hồi quy sẽ có dạng: Lương = a + b * số năm kinh nghiệm \\nvới các hệ số a và b lần lượt là\")\n",
    "print(regressor.intercept_)\n",
    "#For retrieving the slope:\n",
    "print(regressor.coef_)"
   ]
  },
  {
   "cell_type": "markdown",
   "metadata": {},
   "source": [
    "#### Đánh giá mô hình"
   ]
  },
  {
   "cell_type": "code",
   "execution_count": 10,
   "metadata": {},
   "outputs": [
    {
     "name": "stdout",
     "output_type": "stream",
     "text": [
      "R2 trên tập huấn luyện của model là:0.9318331044271062\n",
      "R2 trên tập kiểm tra của model là:0.8762196686203844\n",
      "\n",
      "\n",
      "Đánh giá năng lực dự báo trung bình trên tập test\n",
      "Sai số dự báo trung bình: 0.5566819767125358\n"
     ]
    }
   ],
   "source": [
    "y_pred = regressor.predict(X_test) # dự đoán trên số năm kinh nghiệm của bộ dữ liệu test\n",
    "## tính toán R2 của model\n",
    "import sklearn.metrics as metrics\n",
    "from sklearn.metrics import r2_score\n",
    "r2_train = r2_score(y_train, regressor.predict(X_train))\n",
    "print(\"R2 trên tập huấn luyện của model là:\" + str(r2_train))\n",
    "r2_test = r2_score(y_test, y_pred)\n",
    "print(\"R2 trên tập kiểm tra của model là:\" + str(r2_test))\n",
    "\n",
    "df = pd.DataFrame({'số năm kinh nghiệm': X_test.flatten(), 'Lương Thực tế': y_test.flatten(), 'Lương Dự báo': y_pred.flatten()})\n",
    "print(\"\\n\") # xuống dòng\n",
    "print(\"Đánh giá năng lực dự báo trung bình trên tập test\")\n",
    "print('Sai số dự báo trung bình:', metrics.mean_absolute_error(y_test, y_pred))  "
   ]
  },
  {
   "cell_type": "code",
   "execution_count": 11,
   "metadata": {},
   "outputs": [
    {
     "data": {
      "image/png": "[encoded data removed]",
      "text/plain": [
       "<Figure size 432x288 with 1 Axes>"
      ]
     },
     "metadata": {
      "needs_background": "light"
     },
     "output_type": "display_data"
    }
   ],
   "source": [
    "plt.scatter(X_test, y_test,  color='gray')\n",
    "plt.plot(X_test, y_pred, color='red', linewidth=2)\n",
    "plt.show()"
   ]
  },
  {
   "cell_type": "markdown",
   "metadata": {},
   "source": [
    "#### Lưu trữ và sử dụng mô hình sau đã huấn luyện"
   ]
  },
  {
   "cell_type": "code",
   "execution_count": 12,
   "metadata": {},
   "outputs": [],
   "source": [
    "# lưu trữ mô hình vào máy tính\n",
    "import pickle # thư viện  giúp lưu trữ mô hình\n",
    "filename = 'model.sav'\n",
    "pickle.dump(regressor, open(filename, 'wb'))"
   ]
  },
  {
   "cell_type": "markdown",
   "metadata": {},
   "source": [
    "#### Sử dụng mô hình sau đã lưu"
   ]
  },
  {
   "cell_type": "code",
   "execution_count": 13,
   "metadata": {},
   "outputs": [
    {
     "data": {
      "text/plain": [
       "array([[ 8.38881844],\n",
       "       [10.42171574],\n",
       "       [14.48751032]])"
      ]
     },
     "execution_count": 13,
     "metadata": {},
     "output_type": "execute_result"
    }
   ],
   "source": [
    "# Some time later.....\n",
    "# sử dụng mô hình\n",
    "#loaded_model = LinearRegression()\n",
    "loaded_model = pickle.load(open(filename, 'rb'))\n",
    "x = [[1],[2],[4]]\n",
    "y_pred = loaded_model.predict(x)\n",
    "y_pred"
   ]
  }
 ],
 "metadata": {
  "interpreter": {
   "hash": "2469a70536e4d2335a2ea8907942d0699c37342a371ac185bdb5b0aa6f073890"
  },
  "kernelspec": {
   "display_name": "Python 3.9.2 64-bit",
   "language": "python",
   "name": "python3"
  },
  "language_info": {
   "codemirror_mode": {
    "name": "ipython",
    "version": 3
   },
   "file_extension": ".py",
   "mimetype": "text/x-python",
   "name": "python",
   "nbconvert_exporter": "python",
   "pygments_lexer": "ipython3",
   "version": "3.9.2"
  },
  "orig_nbformat": 4
 },
 "nbformat": 4,
 "nbformat_minor": 2
}
