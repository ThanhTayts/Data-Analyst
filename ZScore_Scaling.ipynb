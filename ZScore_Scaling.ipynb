{
 "cells": [
  {
   "cell_type": "code",
   "execution_count": 33,
   "metadata": {},
   "outputs": [],
   "source": [
    "# Khai báo thư viện\n",
    "import pandas as pd\n",
    "import numpy as np\n",
    "import matplotlib.pyplot as plt\n",
    "import seaborn as sns\n",
    "from sklearn.preprocessing import StandardScaler"
   ]
  },
  {
   "cell_type": "markdown",
   "metadata": {},
   "source": [
    "#### Khởi tạo dữ liệu"
   ]
  },
  {
   "cell_type": "code",
   "execution_count": 34,
   "metadata": {},
   "outputs": [],
   "source": [
    "# tạo các cột theo các phân phối khác nhau\n",
    "df = pd.DataFrame({ \n",
    "    'beta': np.random.beta(5, 1, 1000) * 60,        # beta\n",
    "    'exponential': np.random.exponential(10, 1000), # exponential\n",
    "    'normal_p': np.random.normal(10, 2, 1000),      # normal platykurtic\n",
    "    'normal_l': np.random.normal(10, 10, 1000),     # normal leptokurtic\n",
    "})"
   ]
  },
  {
   "cell_type": "code",
   "execution_count": 35,
   "metadata": {},
   "outputs": [
    {
     "data": {
      "text/html": [
       "<div>\n",
       "<style scoped>\n",
       "    .dataframe tbody tr th:only-of-type {\n",
       "        vertical-align: middle;\n",
       "    }\n",
       "\n",
       "    .dataframe tbody tr th {\n",
       "        vertical-align: top;\n",
       "    }\n",
       "\n",
       "    .dataframe thead th {\n",
       "        text-align: right;\n",
       "    }\n",
       "</style>\n",
       "<table border=\"1\" class=\"dataframe\">\n",
       "  <thead>\n",
       "    <tr style=\"text-align: right;\">\n",
       "      <th></th>\n",
       "      <th>beta</th>\n",
       "      <th>exponential</th>\n",
       "      <th>normal_p</th>\n",
       "      <th>normal_l</th>\n",
       "    </tr>\n",
       "  </thead>\n",
       "  <tbody>\n",
       "    <tr>\n",
       "      <th>0</th>\n",
       "      <td>47.420520</td>\n",
       "      <td>0.864654</td>\n",
       "      <td>8.071816</td>\n",
       "      <td>18.173300</td>\n",
       "    </tr>\n",
       "    <tr>\n",
       "      <th>1</th>\n",
       "      <td>53.888930</td>\n",
       "      <td>7.587836</td>\n",
       "      <td>9.484552</td>\n",
       "      <td>13.856716</td>\n",
       "    </tr>\n",
       "    <tr>\n",
       "      <th>2</th>\n",
       "      <td>49.053058</td>\n",
       "      <td>34.275175</td>\n",
       "      <td>9.491317</td>\n",
       "      <td>2.555423</td>\n",
       "    </tr>\n",
       "    <tr>\n",
       "      <th>3</th>\n",
       "      <td>55.364745</td>\n",
       "      <td>14.399043</td>\n",
       "      <td>9.557285</td>\n",
       "      <td>15.927641</td>\n",
       "    </tr>\n",
       "    <tr>\n",
       "      <th>4</th>\n",
       "      <td>57.891407</td>\n",
       "      <td>0.892830</td>\n",
       "      <td>11.116942</td>\n",
       "      <td>-6.730020</td>\n",
       "    </tr>\n",
       "  </tbody>\n",
       "</table>\n",
       "</div>"
      ],
      "text/plain": [
       "        beta  exponential   normal_p   normal_l\n",
       "0  47.420520     0.864654   8.071816  18.173300\n",
       "1  53.888930     7.587836   9.484552  13.856716\n",
       "2  49.053058    34.275175   9.491317   2.555423\n",
       "3  55.364745    14.399043   9.557285  15.927641\n",
       "4  57.891407     0.892830  11.116942  -6.730020"
      ]
     },
     "execution_count": 35,
     "metadata": {},
     "output_type": "execute_result"
    }
   ],
   "source": [
    "df.head()"
   ]
  },
  {
   "cell_type": "code",
   "execution_count": 36,
   "metadata": {},
   "outputs": [],
   "source": [
    "# thêm dữ liệu được tạo theo phân phối nhị thức\n",
    "first_half = np.random.normal(20, 3, 500) \n",
    "second_half = np.random.normal(-20, 3, 500) \n",
    "bimodal = np.concatenate([first_half, second_half])\n",
    "df['bimodal'] = bimodal"
   ]
  },
  {
   "cell_type": "code",
   "execution_count": 37,
   "metadata": {},
   "outputs": [
    {
     "data": {
      "text/html": [
       "<div>\n",
       "<style scoped>\n",
       "    .dataframe tbody tr th:only-of-type {\n",
       "        vertical-align: middle;\n",
       "    }\n",
       "\n",
       "    .dataframe tbody tr th {\n",
       "        vertical-align: top;\n",
       "    }\n",
       "\n",
       "    .dataframe thead th {\n",
       "        text-align: right;\n",
       "    }\n",
       "</style>\n",
       "<table border=\"1\" class=\"dataframe\">\n",
       "  <thead>\n",
       "    <tr style=\"text-align: right;\">\n",
       "      <th></th>\n",
       "      <th>beta</th>\n",
       "      <th>exponential</th>\n",
       "      <th>normal_p</th>\n",
       "      <th>normal_l</th>\n",
       "      <th>bimodal</th>\n",
       "    </tr>\n",
       "  </thead>\n",
       "  <tbody>\n",
       "    <tr>\n",
       "      <th>0</th>\n",
       "      <td>47.420520</td>\n",
       "      <td>0.864654</td>\n",
       "      <td>8.071816</td>\n",
       "      <td>18.173300</td>\n",
       "      <td>21.454276</td>\n",
       "    </tr>\n",
       "    <tr>\n",
       "      <th>1</th>\n",
       "      <td>53.888930</td>\n",
       "      <td>7.587836</td>\n",
       "      <td>9.484552</td>\n",
       "      <td>13.856716</td>\n",
       "      <td>22.168295</td>\n",
       "    </tr>\n",
       "    <tr>\n",
       "      <th>2</th>\n",
       "      <td>49.053058</td>\n",
       "      <td>34.275175</td>\n",
       "      <td>9.491317</td>\n",
       "      <td>2.555423</td>\n",
       "      <td>15.516668</td>\n",
       "    </tr>\n",
       "    <tr>\n",
       "      <th>3</th>\n",
       "      <td>55.364745</td>\n",
       "      <td>14.399043</td>\n",
       "      <td>9.557285</td>\n",
       "      <td>15.927641</td>\n",
       "      <td>18.032286</td>\n",
       "    </tr>\n",
       "    <tr>\n",
       "      <th>4</th>\n",
       "      <td>57.891407</td>\n",
       "      <td>0.892830</td>\n",
       "      <td>11.116942</td>\n",
       "      <td>-6.730020</td>\n",
       "      <td>22.942422</td>\n",
       "    </tr>\n",
       "  </tbody>\n",
       "</table>\n",
       "</div>"
      ],
      "text/plain": [
       "        beta  exponential   normal_p   normal_l    bimodal\n",
       "0  47.420520     0.864654   8.071816  18.173300  21.454276\n",
       "1  53.888930     7.587836   9.484552  13.856716  22.168295\n",
       "2  49.053058    34.275175   9.491317   2.555423  15.516668\n",
       "3  55.364745    14.399043   9.557285  15.927641  18.032286\n",
       "4  57.891407     0.892830  11.116942  -6.730020  22.942422"
      ]
     },
     "execution_count": 37,
     "metadata": {},
     "output_type": "execute_result"
    }
   ],
   "source": [
    "# hiển thị dữ liệu\n",
    "df.head()"
   ]
  },
  {
   "cell_type": "markdown",
   "metadata": {},
   "source": [
    "#### Trực quan hóa dữ liệu sinh ra"
   ]
  },
  {
   "cell_type": "code",
   "execution_count": 38,
   "metadata": {},
   "outputs": [
    {
     "data": {
      "image/png": "[encoded data removed]",
      "text/plain": [
       "<Figure size 432x288 with 1 Axes>"
      ]
     },
     "metadata": {
      "needs_background": "light"
     },
     "output_type": "display_data"
    }
   ],
   "source": [
    "sns.kdeplot(data=df);"
   ]
  },
  {
   "cell_type": "markdown",
   "metadata": {},
   "source": [
    "#### Hiển thị thống kê về dữ liệu sinh ra"
   ]
  },
  {
   "cell_type": "code",
   "execution_count": 39,
   "metadata": {},
   "outputs": [
    {
     "data": {
      "text/html": [
       "<div>\n",
       "<style scoped>\n",
       "    .dataframe tbody tr th:only-of-type {\n",
       "        vertical-align: middle;\n",
       "    }\n",
       "\n",
       "    .dataframe tbody tr th {\n",
       "        vertical-align: top;\n",
       "    }\n",
       "\n",
       "    .dataframe thead th {\n",
       "        text-align: right;\n",
       "    }\n",
       "</style>\n",
       "<table border=\"1\" class=\"dataframe\">\n",
       "  <thead>\n",
       "    <tr style=\"text-align: right;\">\n",
       "      <th></th>\n",
       "      <th>beta</th>\n",
       "      <th>exponential</th>\n",
       "      <th>normal_p</th>\n",
       "      <th>normal_l</th>\n",
       "      <th>bimodal</th>\n",
       "    </tr>\n",
       "  </thead>\n",
       "  <tbody>\n",
       "    <tr>\n",
       "      <th>count</th>\n",
       "      <td>1000.000000</td>\n",
       "      <td>1000.000000</td>\n",
       "      <td>1000.000000</td>\n",
       "      <td>1000.000000</td>\n",
       "      <td>1000.000000</td>\n",
       "    </tr>\n",
       "    <tr>\n",
       "      <th>mean</th>\n",
       "      <td>49.931329</td>\n",
       "      <td>9.762559</td>\n",
       "      <td>10.060946</td>\n",
       "      <td>10.249606</td>\n",
       "      <td>-0.062940</td>\n",
       "    </tr>\n",
       "    <tr>\n",
       "      <th>std</th>\n",
       "      <td>8.397531</td>\n",
       "      <td>10.392503</td>\n",
       "      <td>1.918861</td>\n",
       "      <td>9.722940</td>\n",
       "      <td>20.263702</td>\n",
       "    </tr>\n",
       "    <tr>\n",
       "      <th>min</th>\n",
       "      <td>18.513852</td>\n",
       "      <td>0.004656</td>\n",
       "      <td>3.589607</td>\n",
       "      <td>-21.099044</td>\n",
       "      <td>-27.481980</td>\n",
       "    </tr>\n",
       "    <tr>\n",
       "      <th>25%</th>\n",
       "      <td>45.012118</td>\n",
       "      <td>2.718647</td>\n",
       "      <td>8.837395</td>\n",
       "      <td>3.894059</td>\n",
       "      <td>-20.060846</td>\n",
       "    </tr>\n",
       "    <tr>\n",
       "      <th>50%</th>\n",
       "      <td>52.039197</td>\n",
       "      <td>6.478062</td>\n",
       "      <td>10.057241</td>\n",
       "      <td>10.443797</td>\n",
       "      <td>-0.499814</td>\n",
       "    </tr>\n",
       "    <tr>\n",
       "      <th>75%</th>\n",
       "      <td>56.773074</td>\n",
       "      <td>13.506618</td>\n",
       "      <td>11.320858</td>\n",
       "      <td>17.191565</td>\n",
       "      <td>19.929289</td>\n",
       "    </tr>\n",
       "    <tr>\n",
       "      <th>max</th>\n",
       "      <td>59.995935</td>\n",
       "      <td>71.379647</td>\n",
       "      <td>15.800632</td>\n",
       "      <td>40.752673</td>\n",
       "      <td>30.411531</td>\n",
       "    </tr>\n",
       "  </tbody>\n",
       "</table>\n",
       "</div>"
      ],
      "text/plain": [
       "              beta  exponential     normal_p     normal_l      bimodal\n",
       "count  1000.000000  1000.000000  1000.000000  1000.000000  1000.000000\n",
       "mean     49.931329     9.762559    10.060946    10.249606    -0.062940\n",
       "std       8.397531    10.392503     1.918861     9.722940    20.263702\n",
       "min      18.513852     0.004656     3.589607   -21.099044   -27.481980\n",
       "25%      45.012118     2.718647     8.837395     3.894059   -20.060846\n",
       "50%      52.039197     6.478062    10.057241    10.443797    -0.499814\n",
       "75%      56.773074    13.506618    11.320858    17.191565    19.929289\n",
       "max      59.995935    71.379647    15.800632    40.752673    30.411531"
      ]
     },
     "execution_count": 39,
     "metadata": {},
     "output_type": "execute_result"
    }
   ],
   "source": [
    "df.describe()"
   ]
  },
  {
   "cell_type": "markdown",
   "metadata": {},
   "source": [
    "#### Thêm một đặc trưng với giá trị lớn hơn nhiều"
   ]
  },
  {
   "cell_type": "code",
   "execution_count": 40,
   "metadata": {},
   "outputs": [
    {
     "data": {
      "image/png": "[encoded data removed]",
      "text/plain": [
       "<Figure size 432x288 with 1 Axes>"
      ]
     },
     "metadata": {
      "needs_background": "light"
     },
     "output_type": "display_data"
    }
   ],
   "source": [
    "# Khi thêm đặc trưng này,do giá trị của chúng khác xa với khoảng giá trị ban đầu nên nếu ta biểu diễn bằng đồ thị thì các dữ liệu lúc trước sẽ co cụm lại 1 bênIn [ ]:\n",
    "normal_big = np.random.normal(1000000, 10000, (1000,1))  # normal distribution of large values\n",
    "df['normal_big'] = normal_big\n",
    "sns.kdeplot(data=df);"
   ]
  },
  {
   "cell_type": "code",
   "execution_count": 41,
   "metadata": {},
   "outputs": [
    {
     "data": {
      "image/png": "[encoded data removed]",
      "text/plain": [
       "<Figure size 432x288 with 1 Axes>"
      ]
     },
     "metadata": {
      "needs_background": "light"
     },
     "output_type": "display_data"
    }
   ],
   "source": [
    "# trực quan hóa bằng biểu đồ box plot\n",
    "df.boxplot();"
   ]
  },
  {
   "cell_type": "markdown",
   "metadata": {},
   "source": [
    "#### Chuẩn hóa với StandardScaler (Z-Score scaling)"
   ]
  },
  {
   "cell_type": "code",
   "execution_count": 42,
   "metadata": {},
   "outputs": [],
   "source": [
    "# Khai báo đối tượng StandardScaler\n",
    "s_scaler = StandardScaler()"
   ]
  },
  {
   "cell_type": "code",
   "execution_count": 43,
   "metadata": {},
   "outputs": [],
   "source": [
    "# Chuẩn hóa dữ liệu trong df với StandardScaler\n",
    "df_s = s_scaler.fit_transform(df)\n",
    "# lấy danh sáchc cột\n",
    "col_names = list(df.columns)\n",
    "# chuyển về DataFrame, gán các cột của df cho dữ liệu đã được chuẩn hóa\n",
    "df_s = pd.DataFrame(df_s, columns=col_names)"
   ]
  },
  {
   "cell_type": "code",
   "execution_count": 44,
   "metadata": {},
   "outputs": [
    {
     "data": {
      "text/html": [
       "<div>\n",
       "<style scoped>\n",
       "    .dataframe tbody tr th:only-of-type {\n",
       "        vertical-align: middle;\n",
       "    }\n",
       "\n",
       "    .dataframe tbody tr th {\n",
       "        vertical-align: top;\n",
       "    }\n",
       "\n",
       "    .dataframe thead th {\n",
       "        text-align: right;\n",
       "    }\n",
       "</style>\n",
       "<table border=\"1\" class=\"dataframe\">\n",
       "  <thead>\n",
       "    <tr style=\"text-align: right;\">\n",
       "      <th></th>\n",
       "      <th>beta</th>\n",
       "      <th>exponential</th>\n",
       "      <th>normal_p</th>\n",
       "      <th>normal_l</th>\n",
       "      <th>bimodal</th>\n",
       "      <th>normal_big</th>\n",
       "    </tr>\n",
       "  </thead>\n",
       "  <tbody>\n",
       "    <tr>\n",
       "      <th>0</th>\n",
       "      <td>-0.299143</td>\n",
       "      <td>-0.856613</td>\n",
       "      <td>-1.037139</td>\n",
       "      <td>0.815356</td>\n",
       "      <td>1.062391</td>\n",
       "      <td>-0.985727</td>\n",
       "    </tr>\n",
       "    <tr>\n",
       "      <th>1</th>\n",
       "      <td>0.471517</td>\n",
       "      <td>-0.209364</td>\n",
       "      <td>-0.300534</td>\n",
       "      <td>0.371175</td>\n",
       "      <td>1.097645</td>\n",
       "      <td>-2.035780</td>\n",
       "    </tr>\n",
       "    <tr>\n",
       "      <th>2</th>\n",
       "      <td>-0.104639</td>\n",
       "      <td>2.359863</td>\n",
       "      <td>-0.297007</td>\n",
       "      <td>-0.791739</td>\n",
       "      <td>0.769228</td>\n",
       "      <td>-0.497485</td>\n",
       "    </tr>\n",
       "    <tr>\n",
       "      <th>3</th>\n",
       "      <td>0.647349</td>\n",
       "      <td>0.446361</td>\n",
       "      <td>-0.262611</td>\n",
       "      <td>0.584276</td>\n",
       "      <td>0.893434</td>\n",
       "      <td>-1.006592</td>\n",
       "    </tr>\n",
       "    <tr>\n",
       "      <th>4</th>\n",
       "      <td>0.948381</td>\n",
       "      <td>-0.853901</td>\n",
       "      <td>0.550600</td>\n",
       "      <td>-1.747221</td>\n",
       "      <td>1.135867</td>\n",
       "      <td>1.626628</td>\n",
       "    </tr>\n",
       "  </tbody>\n",
       "</table>\n",
       "</div>"
      ],
      "text/plain": [
       "       beta  exponential  normal_p  normal_l   bimodal  normal_big\n",
       "0 -0.299143    -0.856613 -1.037139  0.815356  1.062391   -0.985727\n",
       "1  0.471517    -0.209364 -0.300534  0.371175  1.097645   -2.035780\n",
       "2 -0.104639     2.359863 -0.297007 -0.791739  0.769228   -0.497485\n",
       "3  0.647349     0.446361 -0.262611  0.584276  0.893434   -1.006592\n",
       "4  0.948381    -0.853901  0.550600 -1.747221  1.135867    1.626628"
      ]
     },
     "execution_count": 44,
     "metadata": {},
     "output_type": "execute_result"
    }
   ],
   "source": [
    "df_s.head()"
   ]
  },
  {
   "cell_type": "code",
   "execution_count": 45,
   "metadata": {},
   "outputs": [
    {
     "data": {
      "image/png": "[encoded data removed]",
      "text/plain": [
       "<Figure size 432x288 with 1 Axes>"
      ]
     },
     "metadata": {
      "needs_background": "light"
     },
     "output_type": "display_data"
    }
   ],
   "source": [
    "# biểu diễn dữ liệu đã được chuẩn hóa\n",
    "sns.kdeplot(data=df_s);"
   ]
  },
  {
   "cell_type": "code",
   "execution_count": 46,
   "metadata": {},
   "outputs": [
    {
     "data": {
      "text/html": [
       "<div>\n",
       "<style scoped>\n",
       "    .dataframe tbody tr th:only-of-type {\n",
       "        vertical-align: middle;\n",
       "    }\n",
       "\n",
       "    .dataframe tbody tr th {\n",
       "        vertical-align: top;\n",
       "    }\n",
       "\n",
       "    .dataframe thead th {\n",
       "        text-align: right;\n",
       "    }\n",
       "</style>\n",
       "<table border=\"1\" class=\"dataframe\">\n",
       "  <thead>\n",
       "    <tr style=\"text-align: right;\">\n",
       "      <th></th>\n",
       "      <th>beta</th>\n",
       "      <th>exponential</th>\n",
       "      <th>normal_p</th>\n",
       "      <th>normal_l</th>\n",
       "      <th>bimodal</th>\n",
       "      <th>normal_big</th>\n",
       "    </tr>\n",
       "  </thead>\n",
       "  <tbody>\n",
       "    <tr>\n",
       "      <th>count</th>\n",
       "      <td>1.000000e+03</td>\n",
       "      <td>1.000000e+03</td>\n",
       "      <td>1.000000e+03</td>\n",
       "      <td>1.000000e+03</td>\n",
       "      <td>1.000000e+03</td>\n",
       "      <td>1.000000e+03</td>\n",
       "    </tr>\n",
       "    <tr>\n",
       "      <th>mean</th>\n",
       "      <td>6.981082e-16</td>\n",
       "      <td>-1.385558e-16</td>\n",
       "      <td>-2.566836e-16</td>\n",
       "      <td>-1.669775e-16</td>\n",
       "      <td>-1.136868e-16</td>\n",
       "      <td>1.050893e-14</td>\n",
       "    </tr>\n",
       "    <tr>\n",
       "      <th>std</th>\n",
       "      <td>1.000500e+00</td>\n",
       "      <td>1.000500e+00</td>\n",
       "      <td>1.000500e+00</td>\n",
       "      <td>1.000500e+00</td>\n",
       "      <td>1.000500e+00</td>\n",
       "      <td>1.000500e+00</td>\n",
       "    </tr>\n",
       "    <tr>\n",
       "      <th>min</th>\n",
       "      <td>-3.743147e+00</td>\n",
       "      <td>-9.394066e-01</td>\n",
       "      <td>-3.374178e+00</td>\n",
       "      <td>-3.225808e+00</td>\n",
       "      <td>-1.353788e+00</td>\n",
       "      <td>-2.988993e+00</td>\n",
       "    </tr>\n",
       "    <tr>\n",
       "      <th>25%</th>\n",
       "      <td>-5.860856e-01</td>\n",
       "      <td>-6.781270e-01</td>\n",
       "      <td>-6.379638e-01</td>\n",
       "      <td>-6.539923e-01</td>\n",
       "      <td>-9.873770e-01</td>\n",
       "      <td>-6.845639e-01</td>\n",
       "    </tr>\n",
       "    <tr>\n",
       "      <th>50%</th>\n",
       "      <td>2.511361e-01</td>\n",
       "      <td>-3.162030e-01</td>\n",
       "      <td>-1.931717e-03</td>\n",
       "      <td>1.998242e-02</td>\n",
       "      <td>-2.157021e-02</td>\n",
       "      <td>1.157277e-04</td>\n",
       "    </tr>\n",
       "    <tr>\n",
       "      <th>75%</th>\n",
       "      <td>8.151406e-01</td>\n",
       "      <td>3.604456e-01</td>\n",
       "      <td>6.569225e-01</td>\n",
       "      <td>7.143345e-01</td>\n",
       "      <td>9.870967e-01</td>\n",
       "      <td>6.751000e-01</td>\n",
       "    </tr>\n",
       "    <tr>\n",
       "      <th>max</th>\n",
       "      <td>1.199119e+00</td>\n",
       "      <td>5.931961e+00</td>\n",
       "      <td>2.992692e+00</td>\n",
       "      <td>3.138796e+00</td>\n",
       "      <td>1.504647e+00</td>\n",
       "      <td>2.705156e+00</td>\n",
       "    </tr>\n",
       "  </tbody>\n",
       "</table>\n",
       "</div>"
      ],
      "text/plain": [
       "               beta   exponential      normal_p      normal_l       bimodal  \\\n",
       "count  1.000000e+03  1.000000e+03  1.000000e+03  1.000000e+03  1.000000e+03   \n",
       "mean   6.981082e-16 -1.385558e-16 -2.566836e-16 -1.669775e-16 -1.136868e-16   \n",
       "std    1.000500e+00  1.000500e+00  1.000500e+00  1.000500e+00  1.000500e+00   \n",
       "min   -3.743147e+00 -9.394066e-01 -3.374178e+00 -3.225808e+00 -1.353788e+00   \n",
       "25%   -5.860856e-01 -6.781270e-01 -6.379638e-01 -6.539923e-01 -9.873770e-01   \n",
       "50%    2.511361e-01 -3.162030e-01 -1.931717e-03  1.998242e-02 -2.157021e-02   \n",
       "75%    8.151406e-01  3.604456e-01  6.569225e-01  7.143345e-01  9.870967e-01   \n",
       "max    1.199119e+00  5.931961e+00  2.992692e+00  3.138796e+00  1.504647e+00   \n",
       "\n",
       "         normal_big  \n",
       "count  1.000000e+03  \n",
       "mean   1.050893e-14  \n",
       "std    1.000500e+00  \n",
       "min   -2.988993e+00  \n",
       "25%   -6.845639e-01  \n",
       "50%    1.157277e-04  \n",
       "75%    6.751000e-01  \n",
       "max    2.705156e+00  "
      ]
     },
     "execution_count": 46,
     "metadata": {},
     "output_type": "execute_result"
    }
   ],
   "source": [
    "# thống kê về dữ liệu được sinh ra\n",
    "df_s.describe()"
   ]
  },
  {
   "cell_type": "code",
   "execution_count": 47,
   "metadata": {},
   "outputs": [
    {
     "data": {
      "image/png": "[encoded data removed]",
      "text/plain": [
       "<Figure size 432x288 with 1 Axes>"
      ]
     },
     "metadata": {
      "needs_background": "light"
     },
     "output_type": "display_data"
    }
   ],
   "source": [
    "# trực quan hóa bằng biểu đồ box plot\n",
    "df_s.boxplot();"
   ]
  }
 ],
 "metadata": {
  "interpreter": {
   "hash": "4ce0e62306dd6a5716965d4519ada776f947e6dfc145b604b11307c10277ef29"
  },
  "kernelspec": {
   "display_name": "Python 3.9.2 64-bit",
   "language": "python",
   "name": "python3"
  },
  "language_info": {
   "codemirror_mode": {
    "name": "ipython",
    "version": 3
   },
   "file_extension": ".py",
   "mimetype": "text/x-python",
   "name": "python",
   "nbconvert_exporter": "python",
   "pygments_lexer": "ipython3",
   "version": "3.9.2"
  },
  "orig_nbformat": 4
 },
 "nbformat": 4,
 "nbformat_minor": 2
}
