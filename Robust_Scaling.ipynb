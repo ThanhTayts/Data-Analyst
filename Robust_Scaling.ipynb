{
 "cells": [
  {
   "cell_type": "markdown",
   "metadata": {},
   "source": [
    "#### Khai báo thư viện cần dùng"
   ]
  },
  {
   "cell_type": "code",
   "execution_count": 43,
   "metadata": {},
   "outputs": [],
   "source": [
    "import pandas as pd\n",
    "import numpy as np\n",
    "import matplotlib.pyplot as plt\n",
    "import seaborn as sns\n",
    "from sklearn.preprocessing import RobustScaler"
   ]
  },
  {
   "cell_type": "markdown",
   "metadata": {},
   "source": [
    "#### Khởi tạo dữ liệu"
   ]
  },
  {
   "cell_type": "code",
   "execution_count": 44,
   "metadata": {},
   "outputs": [],
   "source": [
    "# tạo các cột theo các phần phối khác nhau\n",
    "df = pd.DataFrame({ \n",
    "    'beta': np.random.beta(5, 1, 1000) * 60,        # beta\n",
    "    'exponential': np.random.exponential(10, 1000), # exponential\n",
    "    'normal_p': np.random.normal(10, 2, 1000),      # normal platykurtic\n",
    "    'normal_l': np.random.normal(10, 10, 1000),     # normal leptokurtic\n",
    "})"
   ]
  },
  {
   "cell_type": "code",
   "execution_count": 45,
   "metadata": {},
   "outputs": [
    {
     "data": {
      "text/html": [
       "<div>\n",
       "<style scoped>\n",
       "    .dataframe tbody tr th:only-of-type {\n",
       "        vertical-align: middle;\n",
       "    }\n",
       "\n",
       "    .dataframe tbody tr th {\n",
       "        vertical-align: top;\n",
       "    }\n",
       "\n",
       "    .dataframe thead th {\n",
       "        text-align: right;\n",
       "    }\n",
       "</style>\n",
       "<table border=\"1\" class=\"dataframe\">\n",
       "  <thead>\n",
       "    <tr style=\"text-align: right;\">\n",
       "      <th></th>\n",
       "      <th>beta</th>\n",
       "      <th>exponential</th>\n",
       "      <th>normal_p</th>\n",
       "      <th>normal_l</th>\n",
       "      <th>bimodal</th>\n",
       "    </tr>\n",
       "  </thead>\n",
       "  <tbody>\n",
       "    <tr>\n",
       "      <th>0</th>\n",
       "      <td>57.037146</td>\n",
       "      <td>2.079825</td>\n",
       "      <td>9.498598</td>\n",
       "      <td>31.315632</td>\n",
       "      <td>18.388100</td>\n",
       "    </tr>\n",
       "    <tr>\n",
       "      <th>1</th>\n",
       "      <td>54.528591</td>\n",
       "      <td>14.363599</td>\n",
       "      <td>11.358078</td>\n",
       "      <td>6.127434</td>\n",
       "      <td>19.493787</td>\n",
       "    </tr>\n",
       "    <tr>\n",
       "      <th>2</th>\n",
       "      <td>58.526985</td>\n",
       "      <td>6.093247</td>\n",
       "      <td>10.781676</td>\n",
       "      <td>21.337218</td>\n",
       "      <td>19.490276</td>\n",
       "    </tr>\n",
       "    <tr>\n",
       "      <th>3</th>\n",
       "      <td>58.345862</td>\n",
       "      <td>21.438024</td>\n",
       "      <td>7.929698</td>\n",
       "      <td>13.156001</td>\n",
       "      <td>22.896675</td>\n",
       "    </tr>\n",
       "    <tr>\n",
       "      <th>4</th>\n",
       "      <td>32.785228</td>\n",
       "      <td>6.866817</td>\n",
       "      <td>8.417163</td>\n",
       "      <td>4.813628</td>\n",
       "      <td>16.121670</td>\n",
       "    </tr>\n",
       "  </tbody>\n",
       "</table>\n",
       "</div>"
      ],
      "text/plain": [
       "        beta  exponential   normal_p   normal_l    bimodal\n",
       "0  57.037146     2.079825   9.498598  31.315632  18.388100\n",
       "1  54.528591    14.363599  11.358078   6.127434  19.493787\n",
       "2  58.526985     6.093247  10.781676  21.337218  19.490276\n",
       "3  58.345862    21.438024   7.929698  13.156001  22.896675\n",
       "4  32.785228     6.866817   8.417163   4.813628  16.121670"
      ]
     },
     "execution_count": 45,
     "metadata": {},
     "output_type": "execute_result"
    }
   ],
   "source": [
    "# thêm dữ liệu được tạo theo phân phối nhị thức\n",
    "first_half = np.random.normal(20, 3, 500) \n",
    "second_half = np.random.normal(-20, 3, 500) \n",
    "bimodal = np.concatenate([first_half, second_half])\n",
    "\n",
    "df['bimodal'] = bimodal\n",
    "# hiển thị dữ liệu\n",
    "df.head()"
   ]
  },
  {
   "cell_type": "markdown",
   "metadata": {},
   "source": [
    "#### Trực quan hóa dữ liệu sinh ra"
   ]
  },
  {
   "cell_type": "code",
   "execution_count": 46,
   "metadata": {},
   "outputs": [
    {
     "data": {
      "image/png": "[encoded data removed]",
      "text/plain": [
       "<Figure size 432x288 with 1 Axes>"
      ]
     },
     "metadata": {
      "needs_background": "light"
     },
     "output_type": "display_data"
    }
   ],
   "source": [
    "sns.kdeplot(data=df);"
   ]
  },
  {
   "cell_type": "markdown",
   "metadata": {},
   "source": [
    "#### Hiển thị thống kê về dữ liệu sinh ra"
   ]
  },
  {
   "cell_type": "code",
   "execution_count": 47,
   "metadata": {},
   "outputs": [
    {
     "data": {
      "text/html": [
       "<div>\n",
       "<style scoped>\n",
       "    .dataframe tbody tr th:only-of-type {\n",
       "        vertical-align: middle;\n",
       "    }\n",
       "\n",
       "    .dataframe tbody tr th {\n",
       "        vertical-align: top;\n",
       "    }\n",
       "\n",
       "    .dataframe thead th {\n",
       "        text-align: right;\n",
       "    }\n",
       "</style>\n",
       "<table border=\"1\" class=\"dataframe\">\n",
       "  <thead>\n",
       "    <tr style=\"text-align: right;\">\n",
       "      <th></th>\n",
       "      <th>beta</th>\n",
       "      <th>exponential</th>\n",
       "      <th>normal_p</th>\n",
       "      <th>normal_l</th>\n",
       "      <th>bimodal</th>\n",
       "    </tr>\n",
       "  </thead>\n",
       "  <tbody>\n",
       "    <tr>\n",
       "      <th>count</th>\n",
       "      <td>1000.000000</td>\n",
       "      <td>1000.000000</td>\n",
       "      <td>1000.000000</td>\n",
       "      <td>1000.000000</td>\n",
       "      <td>1000.000000</td>\n",
       "    </tr>\n",
       "    <tr>\n",
       "      <th>mean</th>\n",
       "      <td>50.296413</td>\n",
       "      <td>10.218028</td>\n",
       "      <td>10.007571</td>\n",
       "      <td>9.820450</td>\n",
       "      <td>-0.017651</td>\n",
       "    </tr>\n",
       "    <tr>\n",
       "      <th>std</th>\n",
       "      <td>8.378854</td>\n",
       "      <td>10.057852</td>\n",
       "      <td>1.908259</td>\n",
       "      <td>10.152141</td>\n",
       "      <td>20.395851</td>\n",
       "    </tr>\n",
       "    <tr>\n",
       "      <th>min</th>\n",
       "      <td>14.053045</td>\n",
       "      <td>0.007621</td>\n",
       "      <td>1.873943</td>\n",
       "      <td>-22.912093</td>\n",
       "      <td>-30.243315</td>\n",
       "    </tr>\n",
       "    <tr>\n",
       "      <th>25%</th>\n",
       "      <td>45.612647</td>\n",
       "      <td>2.831890</td>\n",
       "      <td>8.770340</td>\n",
       "      <td>2.895362</td>\n",
       "      <td>-20.169880</td>\n",
       "    </tr>\n",
       "    <tr>\n",
       "      <th>50%</th>\n",
       "      <td>52.672321</td>\n",
       "      <td>7.289642</td>\n",
       "      <td>9.960909</td>\n",
       "      <td>9.944212</td>\n",
       "      <td>0.482974</td>\n",
       "    </tr>\n",
       "    <tr>\n",
       "      <th>75%</th>\n",
       "      <td>56.687250</td>\n",
       "      <td>14.425501</td>\n",
       "      <td>11.320477</td>\n",
       "      <td>17.139974</td>\n",
       "      <td>20.025101</td>\n",
       "    </tr>\n",
       "    <tr>\n",
       "      <th>max</th>\n",
       "      <td>59.996955</td>\n",
       "      <td>67.446030</td>\n",
       "      <td>15.466174</td>\n",
       "      <td>44.141488</td>\n",
       "      <td>29.536394</td>\n",
       "    </tr>\n",
       "  </tbody>\n",
       "</table>\n",
       "</div>"
      ],
      "text/plain": [
       "              beta  exponential     normal_p     normal_l      bimodal\n",
       "count  1000.000000  1000.000000  1000.000000  1000.000000  1000.000000\n",
       "mean     50.296413    10.218028    10.007571     9.820450    -0.017651\n",
       "std       8.378854    10.057852     1.908259    10.152141    20.395851\n",
       "min      14.053045     0.007621     1.873943   -22.912093   -30.243315\n",
       "25%      45.612647     2.831890     8.770340     2.895362   -20.169880\n",
       "50%      52.672321     7.289642     9.960909     9.944212     0.482974\n",
       "75%      56.687250    14.425501    11.320477    17.139974    20.025101\n",
       "max      59.996955    67.446030    15.466174    44.141488    29.536394"
      ]
     },
     "execution_count": 47,
     "metadata": {},
     "output_type": "execute_result"
    }
   ],
   "source": [
    "df.describe()"
   ]
  },
  {
   "cell_type": "markdown",
   "metadata": {},
   "source": [
    "#### Thêm một đặc trưng với giá trị lớn hơn nhiều"
   ]
  },
  {
   "cell_type": "code",
   "execution_count": 48,
   "metadata": {},
   "outputs": [
    {
     "data": {
      "image/png": "[encoded data removed]",
      "text/plain": [
       "<Figure size 432x288 with 1 Axes>"
      ]
     },
     "metadata": {
      "needs_background": "light"
     },
     "output_type": "display_data"
    }
   ],
   "source": [
    "# Khi thêm đặc trưng này, do giá trị của chúng khác xa với khoảng giá trị ban đầu nên nếu ta biểu diễn bằng đồ thị thì các dữ liệu lúc trước sẽ co cụm lại 1 bên\n",
    "normal_big = np.random.normal(1000000, 10000, (1000,1))  # normal distribution of large values\n",
    "df['normal_big'] = normal_big\n",
    "sns.kdeplot(data=df);"
   ]
  },
  {
   "cell_type": "code",
   "execution_count": 49,
   "metadata": {},
   "outputs": [
    {
     "data": {
      "image/png": "[encoded data removed]",
      "text/plain": [
       "<Figure size 432x288 with 1 Axes>"
      ]
     },
     "metadata": {
      "needs_background": "light"
     },
     "output_type": "display_data"
    }
   ],
   "source": [
    "# trực quan hóa bằng biểu đồ box plot\n",
    "df.boxplot();"
   ]
  },
  {
   "cell_type": "markdown",
   "metadata": {},
   "source": [
    "#### Chuẩn hóa với Robust Scaling"
   ]
  },
  {
   "cell_type": "code",
   "execution_count": 50,
   "metadata": {},
   "outputs": [],
   "source": [
    "# Khai báo đối tượng MinMaxScaler\n",
    "scaler = RobustScaler()"
   ]
  },
  {
   "cell_type": "code",
   "execution_count": 51,
   "metadata": {},
   "outputs": [
    {
     "data": {
      "text/html": [
       "<div>\n",
       "<style scoped>\n",
       "    .dataframe tbody tr th:only-of-type {\n",
       "        vertical-align: middle;\n",
       "    }\n",
       "\n",
       "    .dataframe tbody tr th {\n",
       "        vertical-align: top;\n",
       "    }\n",
       "\n",
       "    .dataframe thead th {\n",
       "        text-align: right;\n",
       "    }\n",
       "</style>\n",
       "<table border=\"1\" class=\"dataframe\">\n",
       "  <thead>\n",
       "    <tr style=\"text-align: right;\">\n",
       "      <th></th>\n",
       "      <th>beta</th>\n",
       "      <th>exponential</th>\n",
       "      <th>normal_p</th>\n",
       "      <th>normal_l</th>\n",
       "      <th>bimodal</th>\n",
       "      <th>normal_big</th>\n",
       "    </tr>\n",
       "  </thead>\n",
       "  <tbody>\n",
       "    <tr>\n",
       "      <th>0</th>\n",
       "      <td>0.394129</td>\n",
       "      <td>-0.449370</td>\n",
       "      <td>-0.181289</td>\n",
       "      <td>1.500316</td>\n",
       "      <td>0.445457</td>\n",
       "      <td>-0.125930</td>\n",
       "    </tr>\n",
       "    <tr>\n",
       "      <th>1</th>\n",
       "      <td>0.167615</td>\n",
       "      <td>0.610160</td>\n",
       "      <td>0.547880</td>\n",
       "      <td>-0.267945</td>\n",
       "      <td>0.472965</td>\n",
       "      <td>0.882490</td>\n",
       "    </tr>\n",
       "    <tr>\n",
       "      <th>2</th>\n",
       "      <td>0.528657</td>\n",
       "      <td>-0.103194</td>\n",
       "      <td>0.321852</td>\n",
       "      <td>0.799812</td>\n",
       "      <td>0.472877</td>\n",
       "      <td>-0.818440</td>\n",
       "    </tr>\n",
       "    <tr>\n",
       "      <th>3</th>\n",
       "      <td>0.512302</td>\n",
       "      <td>1.220360</td>\n",
       "      <td>-0.796510</td>\n",
       "      <td>0.225474</td>\n",
       "      <td>0.557624</td>\n",
       "      <td>-1.637570</td>\n",
       "    </tr>\n",
       "    <tr>\n",
       "      <th>4</th>\n",
       "      <td>-1.795739</td>\n",
       "      <td>-0.036471</td>\n",
       "      <td>-0.605358</td>\n",
       "      <td>-0.360177</td>\n",
       "      <td>0.389071</td>\n",
       "      <td>0.280582</td>\n",
       "    </tr>\n",
       "  </tbody>\n",
       "</table>\n",
       "</div>"
      ],
      "text/plain": [
       "       beta  exponential  normal_p  normal_l   bimodal  normal_big\n",
       "0  0.394129    -0.449370 -0.181289  1.500316  0.445457   -0.125930\n",
       "1  0.167615     0.610160  0.547880 -0.267945  0.472965    0.882490\n",
       "2  0.528657    -0.103194  0.321852  0.799812  0.472877   -0.818440\n",
       "3  0.512302     1.220360 -0.796510  0.225474  0.557624   -1.637570\n",
       "4 -1.795739    -0.036471 -0.605358 -0.360177  0.389071    0.280582"
      ]
     },
     "execution_count": 51,
     "metadata": {},
     "output_type": "execute_result"
    }
   ],
   "source": [
    "# Chuẩn hóa dữ liệu trong df với StandardScaler\n",
    "df_s = scaler.fit_transform(df)\n",
    "\n",
    "# lấy danh sáchc cột\n",
    "col_names = list(df.columns)\n",
    "\n",
    "# chuyển về DataFrame, gán các cột của df cho dữ liệu đã được chuẩn hóa\n",
    "df_s = pd.DataFrame(df_s, columns=col_names)\n",
    "df_s.head()"
   ]
  },
  {
   "cell_type": "code",
   "execution_count": 52,
   "metadata": {},
   "outputs": [
    {
     "data": {
      "image/png": "[encoded data removed]",
      "text/plain": [
       "<Figure size 432x288 with 1 Axes>"
      ]
     },
     "metadata": {
      "needs_background": "light"
     },
     "output_type": "display_data"
    }
   ],
   "source": [
    "# biểu diễn dữ liệu đã được chuẩn hóa\n",
    "sns.kdeplot(data=df_s);"
   ]
  },
  {
   "cell_type": "code",
   "execution_count": 53,
   "metadata": {},
   "outputs": [
    {
     "data": {
      "text/html": [
       "<div>\n",
       "<style scoped>\n",
       "    .dataframe tbody tr th:only-of-type {\n",
       "        vertical-align: middle;\n",
       "    }\n",
       "\n",
       "    .dataframe tbody tr th {\n",
       "        vertical-align: top;\n",
       "    }\n",
       "\n",
       "    .dataframe thead th {\n",
       "        text-align: right;\n",
       "    }\n",
       "</style>\n",
       "<table border=\"1\" class=\"dataframe\">\n",
       "  <thead>\n",
       "    <tr style=\"text-align: right;\">\n",
       "      <th></th>\n",
       "      <th>beta</th>\n",
       "      <th>exponential</th>\n",
       "      <th>normal_p</th>\n",
       "      <th>normal_l</th>\n",
       "      <th>bimodal</th>\n",
       "      <th>normal_big</th>\n",
       "    </tr>\n",
       "  </thead>\n",
       "  <tbody>\n",
       "    <tr>\n",
       "      <th>count</th>\n",
       "      <td>1000.000000</td>\n",
       "      <td>1.000000e+03</td>\n",
       "      <td>1.000000e+03</td>\n",
       "      <td>1.000000e+03</td>\n",
       "      <td>1000.000000</td>\n",
       "      <td>1000.000000</td>\n",
       "    </tr>\n",
       "    <tr>\n",
       "      <th>mean</th>\n",
       "      <td>-0.214537</td>\n",
       "      <td>2.525862e-01</td>\n",
       "      <td>1.829794e-02</td>\n",
       "      <td>-8.688335e-03</td>\n",
       "      <td>-0.012455</td>\n",
       "      <td>-0.010104</td>\n",
       "    </tr>\n",
       "    <tr>\n",
       "      <th>std</th>\n",
       "      <td>0.756583</td>\n",
       "      <td>8.675340e-01</td>\n",
       "      <td>7.482965e-01</td>\n",
       "      <td>7.127005e-01</td>\n",
       "      <td>0.507423</td>\n",
       "      <td>0.765468</td>\n",
       "    </tr>\n",
       "    <tr>\n",
       "      <th>min</th>\n",
       "      <td>-3.487193</td>\n",
       "      <td>-6.281063e-01</td>\n",
       "      <td>-3.171189e+00</td>\n",
       "      <td>-2.306578e+00</td>\n",
       "      <td>-0.764431</td>\n",
       "      <td>-2.628163</td>\n",
       "    </tr>\n",
       "    <tr>\n",
       "      <th>25%</th>\n",
       "      <td>-0.637465</td>\n",
       "      <td>-3.845007e-01</td>\n",
       "      <td>-4.668648e-01</td>\n",
       "      <td>-4.948432e-01</td>\n",
       "      <td>-0.513817</td>\n",
       "      <td>-0.515819</td>\n",
       "    </tr>\n",
       "    <tr>\n",
       "      <th>50%</th>\n",
       "      <td>0.000000</td>\n",
       "      <td>3.827234e-17</td>\n",
       "      <td>-3.482999e-16</td>\n",
       "      <td>6.245005e-17</td>\n",
       "      <td>0.000000</td>\n",
       "      <td>0.000000</td>\n",
       "    </tr>\n",
       "    <tr>\n",
       "      <th>75%</th>\n",
       "      <td>0.362535</td>\n",
       "      <td>6.154993e-01</td>\n",
       "      <td>5.331352e-01</td>\n",
       "      <td>5.051568e-01</td>\n",
       "      <td>0.486183</td>\n",
       "      <td>0.484181</td>\n",
       "    </tr>\n",
       "    <tr>\n",
       "      <th>max</th>\n",
       "      <td>0.661390</td>\n",
       "      <td>5.188754e+00</td>\n",
       "      <td>2.158811e+00</td>\n",
       "      <td>2.400717e+00</td>\n",
       "      <td>0.722812</td>\n",
       "      <td>2.376495</td>\n",
       "    </tr>\n",
       "  </tbody>\n",
       "</table>\n",
       "</div>"
      ],
      "text/plain": [
       "              beta   exponential      normal_p      normal_l      bimodal  \\\n",
       "count  1000.000000  1.000000e+03  1.000000e+03  1.000000e+03  1000.000000   \n",
       "mean     -0.214537  2.525862e-01  1.829794e-02 -8.688335e-03    -0.012455   \n",
       "std       0.756583  8.675340e-01  7.482965e-01  7.127005e-01     0.507423   \n",
       "min      -3.487193 -6.281063e-01 -3.171189e+00 -2.306578e+00    -0.764431   \n",
       "25%      -0.637465 -3.845007e-01 -4.668648e-01 -4.948432e-01    -0.513817   \n",
       "50%       0.000000  3.827234e-17 -3.482999e-16  6.245005e-17     0.000000   \n",
       "75%       0.362535  6.154993e-01  5.331352e-01  5.051568e-01     0.486183   \n",
       "max       0.661390  5.188754e+00  2.158811e+00  2.400717e+00     0.722812   \n",
       "\n",
       "        normal_big  \n",
       "count  1000.000000  \n",
       "mean     -0.010104  \n",
       "std       0.765468  \n",
       "min      -2.628163  \n",
       "25%      -0.515819  \n",
       "50%       0.000000  \n",
       "75%       0.484181  \n",
       "max       2.376495  "
      ]
     },
     "execution_count": 53,
     "metadata": {},
     "output_type": "execute_result"
    }
   ],
   "source": [
    "# thống kê về dữ liệu được sinh ra\n",
    "df_s.describe()"
   ]
  },
  {
   "cell_type": "code",
   "execution_count": 54,
   "metadata": {},
   "outputs": [
    {
     "data": {
      "image/png": "[encoded data removed]",
      "text/plain": [
       "<Figure size 432x288 with 1 Axes>"
      ]
     },
     "metadata": {
      "needs_background": "light"
     },
     "output_type": "display_data"
    }
   ],
   "source": [
    "df_s.boxplot();"
   ]
  },
  {
   "cell_type": "code",
   "execution_count": 55,
   "metadata": {},
   "outputs": [
    {
     "data": {
      "text/plain": [
       "[-3.4871926591834654,\n",
       " -0.6281063492316007,\n",
       " -3.171188503607253,\n",
       " -2.306577760827575,\n",
       " -0.7644309760718718,\n",
       " -2.6281626673392826]"
      ]
     },
     "execution_count": 55,
     "metadata": {},
     "output_type": "execute_result"
    }
   ],
   "source": [
    "# lấy các giá trị min ở mỗi cột\n",
    "mins = [df_s[col].min() for col in df_s.columns]\n",
    "mins"
   ]
  },
  {
   "cell_type": "code",
   "execution_count": 56,
   "metadata": {},
   "outputs": [
    {
     "data": {
      "text/plain": [
       "[0.6613901248699976,\n",
       " 5.188753600819176,\n",
       " 2.1588111737158466,\n",
       " 2.4007165709580804,\n",
       " 0.7228121516774968,\n",
       " 2.3764946983452906]"
      ]
     },
     "execution_count": 56,
     "metadata": {},
     "output_type": "execute_result"
    }
   ],
   "source": [
    "# lấy giá trị max ở mỗi cột\n",
    "maxs = [df_s[col].max() for col in df_s.columns]\n",
    "maxs"
   ]
  },
  {
   "cell_type": "code",
   "execution_count": 57,
   "metadata": {},
   "outputs": [
    {
     "data": {
      "text/plain": [
       "array([5.26723213e+01, 7.28964177e+00, 9.96090919e+00, 9.94421177e+00,\n",
       "       4.82973693e-01, 9.99960834e+05])"
      ]
     },
     "execution_count": 57,
     "metadata": {},
     "output_type": "execute_result"
    }
   ],
   "source": [
    "# giá trị trung vị của các đặc trưng của tập dữ liệu gốc\n",
    "scaler.center_"
   ]
  }
 ],
 "metadata": {
  "interpreter": {
   "hash": "4ce0e62306dd6a5716965d4519ada776f947e6dfc145b604b11307c10277ef29"
  },
  "kernelspec": {
   "display_name": "Python 3.9.2 64-bit",
   "language": "python",
   "name": "python3"
  },
  "language_info": {
   "codemirror_mode": {
    "name": "ipython",
    "version": 3
   },
   "file_extension": ".py",
   "mimetype": "text/x-python",
   "name": "python",
   "nbconvert_exporter": "python",
   "pygments_lexer": "ipython3",
   "version": "3.9.2"
  },
  "orig_nbformat": 4
 },
 "nbformat": 4,
 "nbformat_minor": 2
}
