{
 "cells": [
  {
   "cell_type": "code",
   "execution_count": 91,
   "metadata": {},
   "outputs": [],
   "source": [
    "# import các thư viện\n",
    "import pandas as pd\n",
    "import seaborn as sns\n",
    "import numpy as np\n",
    "import matplotlib.pyplot as plt\n",
    "from sklearn.preprocessing import MinMaxScaler, RobustScaler, StandardScaler"
   ]
  },
  {
   "cell_type": "code",
   "execution_count": 92,
   "metadata": {},
   "outputs": [
    {
     "data": {
      "text/html": [
       "<div>\n",
       "<style scoped>\n",
       "    .dataframe tbody tr th:only-of-type {\n",
       "        vertical-align: middle;\n",
       "    }\n",
       "\n",
       "    .dataframe tbody tr th {\n",
       "        vertical-align: top;\n",
       "    }\n",
       "\n",
       "    .dataframe thead th {\n",
       "        text-align: right;\n",
       "    }\n",
       "</style>\n",
       "<table border=\"1\" class=\"dataframe\">\n",
       "  <thead>\n",
       "    <tr style=\"text-align: right;\">\n",
       "      <th></th>\n",
       "      <th>title</th>\n",
       "      <th>address</th>\n",
       "      <th>area</th>\n",
       "      <th>price</th>\n",
       "      <th>postDate</th>\n",
       "      <th>land_certificate</th>\n",
       "      <th>house_direction</th>\n",
       "      <th>balcony_direction</th>\n",
       "      <th>toilet</th>\n",
       "      <th>bedroom</th>\n",
       "      <th>floor</th>\n",
       "      <th>type_of_land</th>\n",
       "      <th>street_name</th>\n",
       "      <th>ward_name</th>\n",
       "      <th>district_name</th>\n",
       "      <th>city_name</th>\n",
       "      <th>lat</th>\n",
       "      <th>long</th>\n",
       "    </tr>\n",
       "  </thead>\n",
       "  <tbody>\n",
       "    <tr>\n",
       "      <th>0</th>\n",
       "      <td>Bán nhà Trần Quang Diệu mới coong đẹp 50m2x6 t...</td>\n",
       "      <td>Đường Trần Quang Diệu, Phường Trung Liệt, Đốn...</td>\n",
       "      <td>50.0</td>\n",
       "      <td>14700.0</td>\n",
       "      <td>2021-01-01</td>\n",
       "      <td>Sổ đỏ</td>\n",
       "      <td>NaN</td>\n",
       "      <td>NaN</td>\n",
       "      <td>4.0</td>\n",
       "      <td>6.0</td>\n",
       "      <td>6.0</td>\n",
       "      <td>Bán nhà riêng\\n</td>\n",
       "      <td>Đường Trần Quang Diệu</td>\n",
       "      <td>Phường Trung Liệt</td>\n",
       "      <td>Quận Đống Đa</td>\n",
       "      <td>Thành phố Hà Nội</td>\n",
       "      <td>21.015698</td>\n",
       "      <td>105.824583</td>\n",
       "    </tr>\n",
       "    <tr>\n",
       "      <th>1</th>\n",
       "      <td>Bán nhà mặt phố Tây Sơn - 6 tầng. Kinh doanh t...</td>\n",
       "      <td>Đường Tây Sơn, Phường Trung Liệt, Đống Đa, Hà...</td>\n",
       "      <td>35.0</td>\n",
       "      <td>12500.0</td>\n",
       "      <td>2021-02-19</td>\n",
       "      <td>Sổ đỏ</td>\n",
       "      <td>NaN</td>\n",
       "      <td>NaN</td>\n",
       "      <td>NaN</td>\n",
       "      <td>NaN</td>\n",
       "      <td>6.0</td>\n",
       "      <td>Bán nhà mặt phố\\n</td>\n",
       "      <td>Phố Trung Liệt</td>\n",
       "      <td>Phường Trung Liệt</td>\n",
       "      <td>Quận Đống Đa</td>\n",
       "      <td>Thành phố Hà Nội</td>\n",
       "      <td>21.008930</td>\n",
       "      <td>105.824105</td>\n",
       "    </tr>\n",
       "    <tr>\n",
       "      <th>2</th>\n",
       "      <td>Bán nhà số 36 Đoàn Kết - phố Khâm Thiên - Đống...</td>\n",
       "      <td>Số 36 Đoàn Kết, Phố Khâm Thiên, Phường Thổ Qu...</td>\n",
       "      <td>57.0</td>\n",
       "      <td>4200.0</td>\n",
       "      <td>2021-03-10</td>\n",
       "      <td>Sổ đỏ</td>\n",
       "      <td>Nam</td>\n",
       "      <td>Nam</td>\n",
       "      <td>3.0</td>\n",
       "      <td>8.0</td>\n",
       "      <td>4.0</td>\n",
       "      <td>Bán nhà riêng\\n</td>\n",
       "      <td>Phố Khâm Thiên</td>\n",
       "      <td>Phường Khâm Thiên</td>\n",
       "      <td>Quận Đống Đa</td>\n",
       "      <td>Thành phố Hà Nội</td>\n",
       "      <td>21.025208</td>\n",
       "      <td>105.833111</td>\n",
       "    </tr>\n",
       "    <tr>\n",
       "      <th>3</th>\n",
       "      <td>Bán nhà 6 tầng mới kinh doanh mặt ngõ 1194 Đườ...</td>\n",
       "      <td>Ngõ 1194, Đường Láng, Phường Láng Thượng, Đố...</td>\n",
       "      <td>62.0</td>\n",
       "      <td>11000.0</td>\n",
       "      <td>2021-03-13</td>\n",
       "      <td>Sổ đỏ</td>\n",
       "      <td>Đông</td>\n",
       "      <td>Đông-Nam</td>\n",
       "      <td>6.0</td>\n",
       "      <td>5.0</td>\n",
       "      <td>6.0</td>\n",
       "      <td>Bán nhà riêng\\n</td>\n",
       "      <td>Đường Láng Thượng</td>\n",
       "      <td>Phường Láng Thượng</td>\n",
       "      <td>Quận Đống Đa</td>\n",
       "      <td>Thành phố Hà Nội</td>\n",
       "      <td>21.025379</td>\n",
       "      <td>105.801011</td>\n",
       "    </tr>\n",
       "    <tr>\n",
       "      <th>4</th>\n",
       "      <td>Bán nhà mặt phố Thái Hà 70m2, 5 tầng, 4.5m mặt...</td>\n",
       "      <td>Phố Thái Hà, Phường Trung Liệt, Đống Đa, Hà Nội</td>\n",
       "      <td>70.0</td>\n",
       "      <td>36000.0</td>\n",
       "      <td>2021-03-13</td>\n",
       "      <td>Sổ đỏ</td>\n",
       "      <td>NaN</td>\n",
       "      <td>NaN</td>\n",
       "      <td>NaN</td>\n",
       "      <td>6.0</td>\n",
       "      <td>5.0</td>\n",
       "      <td>Bán nhà mặt phố\\n</td>\n",
       "      <td>Phố Trung Liệt</td>\n",
       "      <td>Phường Trung Liệt</td>\n",
       "      <td>Quận Đống Đa</td>\n",
       "      <td>Thành phố Hà Nội</td>\n",
       "      <td>21.009239</td>\n",
       "      <td>105.824230</td>\n",
       "    </tr>\n",
       "  </tbody>\n",
       "</table>\n",
       "</div>"
      ],
      "text/plain": [
       "                                               title  \\\n",
       "0  Bán nhà Trần Quang Diệu mới coong đẹp 50m2x6 t...   \n",
       "1  Bán nhà mặt phố Tây Sơn - 6 tầng. Kinh doanh t...   \n",
       "2  Bán nhà số 36 Đoàn Kết - phố Khâm Thiên - Đống...   \n",
       "3  Bán nhà 6 tầng mới kinh doanh mặt ngõ 1194 Đườ...   \n",
       "4  Bán nhà mặt phố Thái Hà 70m2, 5 tầng, 4.5m mặt...   \n",
       "\n",
       "                                             address  area    price  \\\n",
       "0  Đường Trần Quang Diệu, Phường Trung Liệt, Đốn...  50.0  14700.0   \n",
       "1  Đường Tây Sơn, Phường Trung Liệt, Đống Đa, Hà...  35.0  12500.0   \n",
       "2  Số 36 Đoàn Kết, Phố Khâm Thiên, Phường Thổ Qu...  57.0   4200.0   \n",
       "3  Ngõ 1194, Đường Láng, Phường Láng Thượng, Đố...  62.0  11000.0   \n",
       "4   Phố Thái Hà, Phường Trung Liệt, Đống Đa, Hà Nội  70.0  36000.0   \n",
       "\n",
       "    postDate land_certificate house_direction balcony_direction  toilet  \\\n",
       "0 2021-01-01            Sổ đỏ             NaN               NaN     4.0   \n",
       "1 2021-02-19            Sổ đỏ             NaN               NaN     NaN   \n",
       "2 2021-03-10            Sổ đỏ             Nam               Nam     3.0   \n",
       "3 2021-03-13            Sổ đỏ            Đông          Đông-Nam     6.0   \n",
       "4 2021-03-13            Sổ đỏ             NaN               NaN     NaN   \n",
       "\n",
       "   bedroom  floor        type_of_land            street_name  \\\n",
       "0      6.0    6.0    Bán nhà riêng\\n   Đường Trần Quang Diệu   \n",
       "1      NaN    6.0  Bán nhà mặt phố\\n          Phố Trung Liệt   \n",
       "2      8.0    4.0    Bán nhà riêng\\n          Phố Khâm Thiên   \n",
       "3      5.0    6.0    Bán nhà riêng\\n       Đường Láng Thượng   \n",
       "4      6.0    5.0  Bán nhà mặt phố\\n          Phố Trung Liệt   \n",
       "\n",
       "            ward_name district_name         city_name        lat        long  \n",
       "0   Phường Trung Liệt  Quận Đống Đa  Thành phố Hà Nội  21.015698  105.824583  \n",
       "1   Phường Trung Liệt  Quận Đống Đa  Thành phố Hà Nội  21.008930  105.824105  \n",
       "2   Phường Khâm Thiên  Quận Đống Đa  Thành phố Hà Nội  21.025208  105.833111  \n",
       "3  Phường Láng Thượng  Quận Đống Đa  Thành phố Hà Nội  21.025379  105.801011  \n",
       "4   Phường Trung Liệt  Quận Đống Đa  Thành phố Hà Nội  21.009239  105.824230  "
      ]
     },
     "execution_count": 92,
     "metadata": {},
     "output_type": "execute_result"
    }
   ],
   "source": [
    "# Đọc bộ dữ liệu\n",
    "df = pd.read_excel('D:\\Desktop\\Data_Analyst\\Jupiter_Notebook_Pandas\\Bài tập house price\\house_price_dống-da.xlsx')\n",
    "df.head()"
   ]
  },
  {
   "cell_type": "markdown",
   "metadata": {},
   "source": [
    "#### Phát hiện các dòng, cột chứa dữ liệu khuyết thiếu"
   ]
  },
  {
   "cell_type": "code",
   "execution_count": 93,
   "metadata": {},
   "outputs": [
    {
     "name": "stdout",
     "output_type": "stream",
     "text": [
      "<class 'pandas.core.frame.DataFrame'>\n",
      "RangeIndex: 1000 entries, 0 to 999\n",
      "Data columns (total 18 columns):\n",
      " #   Column             Non-Null Count  Dtype         \n",
      "---  ------             --------------  -----         \n",
      " 0   title              1000 non-null   object        \n",
      " 1   address            1000 non-null   object        \n",
      " 2   area               994 non-null    float64       \n",
      " 3   price              944 non-null    float64       \n",
      " 4   postDate           1000 non-null   datetime64[ns]\n",
      " 5   land_certificate   693 non-null    object        \n",
      " 6   house_direction    44 non-null     object        \n",
      " 7   balcony_direction  24 non-null     object        \n",
      " 8   toilet             551 non-null    float64       \n",
      " 9   bedroom            635 non-null    float64       \n",
      " 10  floor              376 non-null    float64       \n",
      " 11  type_of_land       1000 non-null   object        \n",
      " 12  street_name        808 non-null    object        \n",
      " 13  ward_name          802 non-null    object        \n",
      " 14  district_name      1000 non-null   object        \n",
      " 15  city_name          1000 non-null   object        \n",
      " 16  lat                1000 non-null   float64       \n",
      " 17  long               1000 non-null   float64       \n",
      "dtypes: datetime64[ns](1), float64(7), object(10)\n",
      "memory usage: 140.8+ KB\n"
     ]
    }
   ],
   "source": [
    "df.info()"
   ]
  },
  {
   "cell_type": "code",
   "execution_count": 94,
   "metadata": {},
   "outputs": [
    {
     "data": {
      "text/plain": [
       "title                  0\n",
       "address                0\n",
       "area                   6\n",
       "price                 56\n",
       "postDate               0\n",
       "land_certificate     307\n",
       "house_direction      956\n",
       "balcony_direction    976\n",
       "toilet               449\n",
       "bedroom              365\n",
       "floor                624\n",
       "type_of_land           0\n",
       "street_name          192\n",
       "ward_name            198\n",
       "district_name          0\n",
       "city_name              0\n",
       "lat                    0\n",
       "long                   0\n",
       "dtype: int64"
      ]
     },
     "execution_count": 94,
     "metadata": {},
     "output_type": "execute_result"
    }
   ],
   "source": [
    "df.isna().sum()"
   ]
  },
  {
   "cell_type": "markdown",
   "metadata": {},
   "source": [
    "#### Xóa bỏ hết tất cả những dòng dữ liệu không có thông tin về giá "
   ]
  },
  {
   "cell_type": "code",
   "execution_count": 95,
   "metadata": {},
   "outputs": [
    {
     "name": "stdout",
     "output_type": "stream",
     "text": [
      "<class 'pandas.core.frame.DataFrame'>\n",
      "Int64Index: 944 entries, 0 to 999\n",
      "Data columns (total 18 columns):\n",
      " #   Column             Non-Null Count  Dtype         \n",
      "---  ------             --------------  -----         \n",
      " 0   title              944 non-null    object        \n",
      " 1   address            944 non-null    object        \n",
      " 2   area               942 non-null    float64       \n",
      " 3   price              944 non-null    float64       \n",
      " 4   postDate           944 non-null    datetime64[ns]\n",
      " 5   land_certificate   683 non-null    object        \n",
      " 6   house_direction    43 non-null     object        \n",
      " 7   balcony_direction  24 non-null     object        \n",
      " 8   toilet             548 non-null    float64       \n",
      " 9   bedroom            631 non-null    float64       \n",
      " 10  floor              367 non-null    float64       \n",
      " 11  type_of_land       944 non-null    object        \n",
      " 12  street_name        791 non-null    object        \n",
      " 13  ward_name          788 non-null    object        \n",
      " 14  district_name      944 non-null    object        \n",
      " 15  city_name          944 non-null    object        \n",
      " 16  lat                944 non-null    float64       \n",
      " 17  long               944 non-null    float64       \n",
      "dtypes: datetime64[ns](1), float64(7), object(10)\n",
      "memory usage: 140.1+ KB\n"
     ]
    }
   ],
   "source": [
    "df.dropna(subset=['price'], inplace=True)\n",
    "df.info()"
   ]
  },
  {
   "cell_type": "markdown",
   "metadata": {},
   "source": [
    "#### Thực hiện xử lý giá trị khuyết thiếu: Thay thế giá trị khuyết thiếu của land_certificate bằng =”không có thông tin”, house_direction, balcony_direction, toilet, bedroom, Floor  bằng giá trị có tần số xuất hiện lớn nhất của các thuộc tính đó,"
   ]
  },
  {
   "cell_type": "code",
   "execution_count": 96,
   "metadata": {},
   "outputs": [
    {
     "name": "stdout",
     "output_type": "stream",
     "text": [
      "<class 'pandas.core.frame.DataFrame'>\n",
      "Int64Index: 944 entries, 0 to 999\n",
      "Data columns (total 18 columns):\n",
      " #   Column             Non-Null Count  Dtype         \n",
      "---  ------             --------------  -----         \n",
      " 0   title              944 non-null    object        \n",
      " 1   address            944 non-null    object        \n",
      " 2   area               942 non-null    float64       \n",
      " 3   price              944 non-null    float64       \n",
      " 4   postDate           944 non-null    datetime64[ns]\n",
      " 5   land_certificate   944 non-null    object        \n",
      " 6   house_direction    43 non-null     object        \n",
      " 7   balcony_direction  24 non-null     object        \n",
      " 8   toilet             548 non-null    float64       \n",
      " 9   bedroom            631 non-null    float64       \n",
      " 10  floor              367 non-null    float64       \n",
      " 11  type_of_land       944 non-null    object        \n",
      " 12  street_name        791 non-null    object        \n",
      " 13  ward_name          788 non-null    object        \n",
      " 14  district_name      944 non-null    object        \n",
      " 15  city_name          944 non-null    object        \n",
      " 16  lat                944 non-null    float64       \n",
      " 17  long               944 non-null    float64       \n",
      "dtypes: datetime64[ns](1), float64(7), object(10)\n",
      "memory usage: 140.1+ KB\n"
     ]
    }
   ],
   "source": [
    "df['land_certificate'] = df['land_certificate'].fillna(value='không có thông tin')\n",
    "df.info()"
   ]
  },
  {
   "cell_type": "code",
   "execution_count": 97,
   "metadata": {},
   "outputs": [
    {
     "data": {
      "text/html": [
       "<div>\n",
       "<style scoped>\n",
       "    .dataframe tbody tr th:only-of-type {\n",
       "        vertical-align: middle;\n",
       "    }\n",
       "\n",
       "    .dataframe tbody tr th {\n",
       "        vertical-align: top;\n",
       "    }\n",
       "\n",
       "    .dataframe thead th {\n",
       "        text-align: right;\n",
       "    }\n",
       "</style>\n",
       "<table border=\"1\" class=\"dataframe\">\n",
       "  <thead>\n",
       "    <tr style=\"text-align: right;\">\n",
       "      <th></th>\n",
       "      <th>title</th>\n",
       "      <th>address</th>\n",
       "      <th>area</th>\n",
       "      <th>price</th>\n",
       "      <th>postDate</th>\n",
       "      <th>land_certificate</th>\n",
       "      <th>house_direction</th>\n",
       "      <th>balcony_direction</th>\n",
       "      <th>toilet</th>\n",
       "      <th>bedroom</th>\n",
       "      <th>floor</th>\n",
       "      <th>type_of_land</th>\n",
       "      <th>street_name</th>\n",
       "      <th>ward_name</th>\n",
       "      <th>district_name</th>\n",
       "      <th>city_name</th>\n",
       "      <th>lat</th>\n",
       "      <th>long</th>\n",
       "    </tr>\n",
       "  </thead>\n",
       "  <tbody>\n",
       "    <tr>\n",
       "      <th>9</th>\n",
       "      <td>7 tầng thang máy gara ở vip 41m2, MT 4.6m ở vi...</td>\n",
       "      <td>Đường Hồ Đắc Di, Phường Nam Đồng, Đống Đa, Hà...</td>\n",
       "      <td>41.0</td>\n",
       "      <td>8900.0</td>\n",
       "      <td>2021-04-06</td>\n",
       "      <td>không có thông tin</td>\n",
       "      <td>Đông-Nam</td>\n",
       "      <td>NaN</td>\n",
       "      <td>NaN</td>\n",
       "      <td>3.0</td>\n",
       "      <td>7.0</td>\n",
       "      <td>Bán nhà riêng\\n</td>\n",
       "      <td>Đường Hồ Đắc Di</td>\n",
       "      <td>Phường Nam Đồng</td>\n",
       "      <td>Quận Đống Đa</td>\n",
       "      <td>Thành phố Hà Nội</td>\n",
       "      <td>21.012310</td>\n",
       "      <td>105.828978</td>\n",
       "    </tr>\n",
       "    <tr>\n",
       "      <th>94</th>\n",
       "      <td>BÁN NHÀ PHỐ CHỢ KHÂM THIÊN_ĐỐNG ĐA_33M2x4T_TẶN...</td>\n",
       "      <td>Hà Nội\\nQuận Đống Đa</td>\n",
       "      <td>33.0</td>\n",
       "      <td>3100.0</td>\n",
       "      <td>2021-01-01</td>\n",
       "      <td>không có thông tin</td>\n",
       "      <td>NaN</td>\n",
       "      <td>NaN</td>\n",
       "      <td>NaN</td>\n",
       "      <td>NaN</td>\n",
       "      <td>NaN</td>\n",
       "      <td>Bán nhà riêng</td>\n",
       "      <td>NaN</td>\n",
       "      <td>NaN</td>\n",
       "      <td>Quận Đống Đa</td>\n",
       "      <td>Thành phố Hà Nội</td>\n",
       "      <td>21.018072</td>\n",
       "      <td>105.829949</td>\n",
       "    </tr>\n",
       "    <tr>\n",
       "      <th>95</th>\n",
       "      <td>Bán nhà mặt phố Thịnh Quang 56m2, Mặt Tiền 4m,...</td>\n",
       "      <td>Hà Nội\\nQuận Đống Đa</td>\n",
       "      <td>56.0</td>\n",
       "      <td>10000.0</td>\n",
       "      <td>2021-01-01</td>\n",
       "      <td>không có thông tin</td>\n",
       "      <td>NaN</td>\n",
       "      <td>NaN</td>\n",
       "      <td>NaN</td>\n",
       "      <td>NaN</td>\n",
       "      <td>NaN</td>\n",
       "      <td>Bán nhà mặt phố</td>\n",
       "      <td>NaN</td>\n",
       "      <td>NaN</td>\n",
       "      <td>Quận Đống Đa</td>\n",
       "      <td>Thành phố Hà Nội</td>\n",
       "      <td>21.018072</td>\n",
       "      <td>105.829949</td>\n",
       "    </tr>\n",
       "    <tr>\n",
       "      <th>96</th>\n",
       "      <td>Bán nhà mặt đường láng, số nhà 468 đường Láng ...</td>\n",
       "      <td>Hà Nội\\nQuận Đống Đa</td>\n",
       "      <td>59.0</td>\n",
       "      <td>50000.0</td>\n",
       "      <td>2021-01-01</td>\n",
       "      <td>không có thông tin</td>\n",
       "      <td>NaN</td>\n",
       "      <td>NaN</td>\n",
       "      <td>NaN</td>\n",
       "      <td>NaN</td>\n",
       "      <td>NaN</td>\n",
       "      <td>Bán nhà mặt phố</td>\n",
       "      <td>NaN</td>\n",
       "      <td>NaN</td>\n",
       "      <td>Quận Đống Đa</td>\n",
       "      <td>Thành phố Hà Nội</td>\n",
       "      <td>21.018072</td>\n",
       "      <td>105.829949</td>\n",
       "    </tr>\n",
       "    <tr>\n",
       "      <th>97</th>\n",
       "      <td>Bán 51,5m2 x 3tầng cũ gần rạp phim quốc gia</td>\n",
       "      <td>Hà Nội\\nQuận Đống Đa</td>\n",
       "      <td>51.0</td>\n",
       "      <td>6100.0</td>\n",
       "      <td>2021-01-01</td>\n",
       "      <td>không có thông tin</td>\n",
       "      <td>NaN</td>\n",
       "      <td>NaN</td>\n",
       "      <td>NaN</td>\n",
       "      <td>NaN</td>\n",
       "      <td>NaN</td>\n",
       "      <td>Bán nhà riêng</td>\n",
       "      <td>NaN</td>\n",
       "      <td>NaN</td>\n",
       "      <td>Quận Đống Đa</td>\n",
       "      <td>Thành phố Hà Nội</td>\n",
       "      <td>21.018072</td>\n",
       "      <td>105.829949</td>\n",
       "    </tr>\n",
       "    <tr>\n",
       "      <th>...</th>\n",
       "      <td>...</td>\n",
       "      <td>...</td>\n",
       "      <td>...</td>\n",
       "      <td>...</td>\n",
       "      <td>...</td>\n",
       "      <td>...</td>\n",
       "      <td>...</td>\n",
       "      <td>...</td>\n",
       "      <td>...</td>\n",
       "      <td>...</td>\n",
       "      <td>...</td>\n",
       "      <td>...</td>\n",
       "      <td>...</td>\n",
       "      <td>...</td>\n",
       "      <td>...</td>\n",
       "      <td>...</td>\n",
       "      <td>...</td>\n",
       "      <td>...</td>\n",
       "    </tr>\n",
       "    <tr>\n",
       "      <th>988</th>\n",
       "      <td>Mặt phố kinh doanh sầm uất Nguyẽn Van Tuyét,...</td>\n",
       "      <td>Đường Nguyễn Văn Tuyết, Phường Trung Liệt, Đố...</td>\n",
       "      <td>76.0</td>\n",
       "      <td>30500.0</td>\n",
       "      <td>2021-01-01</td>\n",
       "      <td>không có thông tin</td>\n",
       "      <td>NaN</td>\n",
       "      <td>NaN</td>\n",
       "      <td>NaN</td>\n",
       "      <td>NaN</td>\n",
       "      <td>NaN</td>\n",
       "      <td>Bán nhà mặt phố\\n</td>\n",
       "      <td>Đường Nguyễn Văn Tuyết</td>\n",
       "      <td>Phường Trung Liệt</td>\n",
       "      <td>Quận Đống Đa</td>\n",
       "      <td>Thành phố Hà Nội</td>\n",
       "      <td>21.009533</td>\n",
       "      <td>105.820193</td>\n",
       "    </tr>\n",
       "    <tr>\n",
       "      <th>993</th>\n",
       "      <td>BÁN GẤP LÔ ĐẤT KINH DOANH ĐỈNH PHỐ TÔN THẤT TÙ...</td>\n",
       "      <td>Đường Tôn Thất Tùng, Phường Phương Mai, Đống Đ...</td>\n",
       "      <td>168.0</td>\n",
       "      <td>23500.0</td>\n",
       "      <td>2021-05-09</td>\n",
       "      <td>không có thông tin</td>\n",
       "      <td>NaN</td>\n",
       "      <td>NaN</td>\n",
       "      <td>3.0</td>\n",
       "      <td>3.0</td>\n",
       "      <td>3.0</td>\n",
       "      <td>Bán nhà mặt phố\\n</td>\n",
       "      <td>Đường Tôn Thất Tùng</td>\n",
       "      <td>Phường Phương Mai</td>\n",
       "      <td>Quận Đống Đa</td>\n",
       "      <td>Thành phố Hà Nội</td>\n",
       "      <td>21.000823</td>\n",
       "      <td>105.829097</td>\n",
       "    </tr>\n",
       "    <tr>\n",
       "      <th>994</th>\n",
       "      <td>Bán nhà riêng chính chủ ngõ 29 Vũ Thạnh, Đống ...</td>\n",
       "      <td>Đường Vũ Thạnh, Phường Ô Chợ Dừa, Đống Đa,...</td>\n",
       "      <td>25.0</td>\n",
       "      <td>2850.0</td>\n",
       "      <td>2021-05-09</td>\n",
       "      <td>không có thông tin</td>\n",
       "      <td>NaN</td>\n",
       "      <td>NaN</td>\n",
       "      <td>3.0</td>\n",
       "      <td>2.0</td>\n",
       "      <td>4.0</td>\n",
       "      <td>Bán nhà riêng\\n</td>\n",
       "      <td>Đường Ô Chợ Dừa</td>\n",
       "      <td>Phường Ô Chợ Dừa</td>\n",
       "      <td>Quận Đống Đa</td>\n",
       "      <td>Thành phố Hà Nội</td>\n",
       "      <td>21.026821</td>\n",
       "      <td>105.825845</td>\n",
       "    </tr>\n",
       "    <tr>\n",
       "      <th>996</th>\n",
       "      <td>Bán nhà 5 tầng đep MP Yên Lãng giá rẻ, DT 60m2...</td>\n",
       "      <td>Đường Yên Lãng, Phường Trung Liệt, Đống Đa, ...</td>\n",
       "      <td>60.0</td>\n",
       "      <td>17500.0</td>\n",
       "      <td>2021-01-01</td>\n",
       "      <td>không có thông tin</td>\n",
       "      <td>NaN</td>\n",
       "      <td>NaN</td>\n",
       "      <td>NaN</td>\n",
       "      <td>NaN</td>\n",
       "      <td>NaN</td>\n",
       "      <td>Bán nhà mặt phố\\n</td>\n",
       "      <td>Phố Trung Liệt</td>\n",
       "      <td>Phường Trung Liệt</td>\n",
       "      <td>Quận Đống Đa</td>\n",
       "      <td>Thành phố Hà Nội</td>\n",
       "      <td>21.011495</td>\n",
       "      <td>105.816666</td>\n",
       "    </tr>\n",
       "    <tr>\n",
       "      <th>997</th>\n",
       "      <td>MẶT PHỐ XÃ ĐÀN - KINH DOANH ĐỈNH CAO - 6 TẦNG ...</td>\n",
       "      <td>Phố Xã Đàn, Phường Ô Chợ Dừa, Đống Đa, Hà Nội</td>\n",
       "      <td>45.0</td>\n",
       "      <td>24800.0</td>\n",
       "      <td>2021-01-01</td>\n",
       "      <td>không có thông tin</td>\n",
       "      <td>NaN</td>\n",
       "      <td>NaN</td>\n",
       "      <td>NaN</td>\n",
       "      <td>NaN</td>\n",
       "      <td>NaN</td>\n",
       "      <td>Bán nhà mặt phố\\n</td>\n",
       "      <td>Đường Ô Chợ Dừa</td>\n",
       "      <td>Phường Ô Chợ Dừa</td>\n",
       "      <td>Quận Đống Đa</td>\n",
       "      <td>Thành phố Hà Nội</td>\n",
       "      <td>21.016106</td>\n",
       "      <td>105.832157</td>\n",
       "    </tr>\n",
       "  </tbody>\n",
       "</table>\n",
       "<p>261 rows × 18 columns</p>\n",
       "</div>"
      ],
      "text/plain": [
       "                                                 title  \\\n",
       "9    7 tầng thang máy gara ở vip 41m2, MT 4.6m ở vi...   \n",
       "94   BÁN NHÀ PHỐ CHỢ KHÂM THIÊN_ĐỐNG ĐA_33M2x4T_TẶN...   \n",
       "95   Bán nhà mặt phố Thịnh Quang 56m2, Mặt Tiền 4m,...   \n",
       "96   Bán nhà mặt đường láng, số nhà 468 đường Láng ...   \n",
       "97         Bán 51,5m2 x 3tầng cũ gần rạp phim quốc gia   \n",
       "..                                                 ...   \n",
       "988  Mặt phố kinh doanh sầm uất Nguyẽn Van Tuyét,...   \n",
       "993  BÁN GẤP LÔ ĐẤT KINH DOANH ĐỈNH PHỐ TÔN THẤT TÙ...   \n",
       "994  Bán nhà riêng chính chủ ngõ 29 Vũ Thạnh, Đống ...   \n",
       "996  Bán nhà 5 tầng đep MP Yên Lãng giá rẻ, DT 60m2...   \n",
       "997  MẶT PHỐ XÃ ĐÀN - KINH DOANH ĐỈNH CAO - 6 TẦNG ...   \n",
       "\n",
       "                                               address   area    price  \\\n",
       "9    Đường Hồ Đắc Di, Phường Nam Đồng, Đống Đa, Hà...   41.0   8900.0   \n",
       "94                               Hà Nội\\nQuận Đống Đa    33.0   3100.0   \n",
       "95                               Hà Nội\\nQuận Đống Đa    56.0  10000.0   \n",
       "96                               Hà Nội\\nQuận Đống Đa    59.0  50000.0   \n",
       "97                               Hà Nội\\nQuận Đống Đa    51.0   6100.0   \n",
       "..                                                 ...    ...      ...   \n",
       "988  Đường Nguyễn Văn Tuyết, Phường Trung Liệt, Đố...   76.0  30500.0   \n",
       "993  Đường Tôn Thất Tùng, Phường Phương Mai, Đống Đ...  168.0  23500.0   \n",
       "994  Đường Vũ Thạnh, Phường Ô Chợ Dừa, Đống Đa,...   25.0   2850.0   \n",
       "996  Đường Yên Lãng, Phường Trung Liệt, Đống Đa, ...   60.0  17500.0   \n",
       "997    Phố Xã Đàn, Phường Ô Chợ Dừa, Đống Đa, Hà Nội   45.0  24800.0   \n",
       "\n",
       "      postDate    land_certificate house_direction balcony_direction  toilet  \\\n",
       "9   2021-04-06  không có thông tin        Đông-Nam               NaN     NaN   \n",
       "94  2021-01-01  không có thông tin             NaN               NaN     NaN   \n",
       "95  2021-01-01  không có thông tin             NaN               NaN     NaN   \n",
       "96  2021-01-01  không có thông tin             NaN               NaN     NaN   \n",
       "97  2021-01-01  không có thông tin             NaN               NaN     NaN   \n",
       "..         ...                 ...             ...               ...     ...   \n",
       "988 2021-01-01  không có thông tin             NaN               NaN     NaN   \n",
       "993 2021-05-09  không có thông tin             NaN               NaN     3.0   \n",
       "994 2021-05-09  không có thông tin             NaN               NaN     3.0   \n",
       "996 2021-01-01  không có thông tin             NaN               NaN     NaN   \n",
       "997 2021-01-01  không có thông tin             NaN               NaN     NaN   \n",
       "\n",
       "     bedroom  floor        type_of_land             street_name  \\\n",
       "9        3.0    7.0    Bán nhà riêng\\n          Đường Hồ Đắc Di   \n",
       "94       NaN    NaN       Bán nhà riêng                     NaN   \n",
       "95       NaN    NaN     Bán nhà mặt phố                     NaN   \n",
       "96       NaN    NaN     Bán nhà mặt phố                     NaN   \n",
       "97       NaN    NaN       Bán nhà riêng                     NaN   \n",
       "..       ...    ...                 ...                     ...   \n",
       "988      NaN    NaN  Bán nhà mặt phố\\n   Đường Nguyễn Văn Tuyết   \n",
       "993      3.0    3.0  Bán nhà mặt phố\\n      Đường Tôn Thất Tùng   \n",
       "994      2.0    4.0    Bán nhà riêng\\n          Đường Ô Chợ Dừa   \n",
       "996      NaN    NaN  Bán nhà mặt phố\\n           Phố Trung Liệt   \n",
       "997      NaN    NaN  Bán nhà mặt phố\\n          Đường Ô Chợ Dừa   \n",
       "\n",
       "             ward_name district_name         city_name        lat        long  \n",
       "9      Phường Nam Đồng  Quận Đống Đa  Thành phố Hà Nội  21.012310  105.828978  \n",
       "94                 NaN  Quận Đống Đa  Thành phố Hà Nội  21.018072  105.829949  \n",
       "95                 NaN  Quận Đống Đa  Thành phố Hà Nội  21.018072  105.829949  \n",
       "96                 NaN  Quận Đống Đa  Thành phố Hà Nội  21.018072  105.829949  \n",
       "97                 NaN  Quận Đống Đa  Thành phố Hà Nội  21.018072  105.829949  \n",
       "..                 ...           ...               ...        ...         ...  \n",
       "988  Phường Trung Liệt  Quận Đống Đa  Thành phố Hà Nội  21.009533  105.820193  \n",
       "993  Phường Phương Mai  Quận Đống Đa  Thành phố Hà Nội  21.000823  105.829097  \n",
       "994   Phường Ô Chợ Dừa  Quận Đống Đa  Thành phố Hà Nội  21.026821  105.825845  \n",
       "996  Phường Trung Liệt  Quận Đống Đa  Thành phố Hà Nội  21.011495  105.816666  \n",
       "997   Phường Ô Chợ Dừa  Quận Đống Đa  Thành phố Hà Nội  21.016106  105.832157  \n",
       "\n",
       "[261 rows x 18 columns]"
      ]
     },
     "execution_count": 97,
     "metadata": {},
     "output_type": "execute_result"
    }
   ],
   "source": [
    "df[df['land_certificate'] == 'không có thông tin']"
   ]
  },
  {
   "cell_type": "code",
   "execution_count": 98,
   "metadata": {},
   "outputs": [
    {
     "name": "stdout",
     "output_type": "stream",
     "text": [
      "<class 'pandas.core.frame.DataFrame'>\n",
      "Int64Index: 944 entries, 0 to 999\n",
      "Data columns (total 18 columns):\n",
      " #   Column             Non-Null Count  Dtype         \n",
      "---  ------             --------------  -----         \n",
      " 0   title              944 non-null    object        \n",
      " 1   address            944 non-null    object        \n",
      " 2   area               942 non-null    float64       \n",
      " 3   price              944 non-null    float64       \n",
      " 4   postDate           944 non-null    datetime64[ns]\n",
      " 5   land_certificate   944 non-null    object        \n",
      " 6   house_direction    944 non-null    object        \n",
      " 7   balcony_direction  944 non-null    object        \n",
      " 8   toilet             944 non-null    float64       \n",
      " 9   bedroom            944 non-null    float64       \n",
      " 10  floor              944 non-null    float64       \n",
      " 11  type_of_land       944 non-null    object        \n",
      " 12  street_name        791 non-null    object        \n",
      " 13  ward_name          788 non-null    object        \n",
      " 14  district_name      944 non-null    object        \n",
      " 15  city_name          944 non-null    object        \n",
      " 16  lat                944 non-null    float64       \n",
      " 17  long               944 non-null    float64       \n",
      "dtypes: datetime64[ns](1), float64(7), object(10)\n",
      "memory usage: 140.1+ KB\n"
     ]
    }
   ],
   "source": [
    "df['house_direction'] = df['house_direction'].fillna(df['house_direction'].mode()[0])\n",
    "df['balcony_direction'] = df['balcony_direction'].fillna(df['balcony_direction'].mode()[0])\n",
    "df['toilet'] = df['toilet'].fillna(df['toilet'].mode()[0])\n",
    "df['bedroom'] = df['bedroom'].fillna(df['bedroom'].mode()[0])\n",
    "df['floor'] = df['floor'].fillna(df['floor'].mode()[0])\n",
    "df.info()"
   ]
  },
  {
   "cell_type": "markdown",
   "metadata": {},
   "source": [
    "#### Lọc thông tin những bất động sản ở trong ngõ thành bộ dữ liệu nhà ngõ"
   ]
  },
  {
   "cell_type": "code",
   "execution_count": 99,
   "metadata": {},
   "outputs": [
    {
     "data": {
      "text/plain": [
       "type_of_land        \n",
       "Bán nhà riêng           315\n",
       "Bán nhà riêng\\n         245\n",
       "Bán nhà mặt phố\\n       168\n",
       "Tập thể, cư xá           69\n",
       "Bán nhà mặt phố          61\n",
       "Chung cư                 59\n",
       "Bất động sản khác\\n      10\n",
       "Bất động sản khác         9\n",
       "Đất thổ cư                8\n",
       "dtype: int64"
      ]
     },
     "execution_count": 99,
     "metadata": {},
     "output_type": "execute_result"
    }
   ],
   "source": [
    "df[['type_of_land']].value_counts()"
   ]
  },
  {
   "cell_type": "code",
   "execution_count": 100,
   "metadata": {},
   "outputs": [],
   "source": [
    "# ta sẽ loại bỏ các giá trị nhà mặt phố\n",
    "df1 = df[(df['type_of_land'] != 'Bán nhà mặt phố\\n ') & (df['type_of_land'] != 'Bán nhà mặt phố')]"
   ]
  },
  {
   "cell_type": "code",
   "execution_count": 101,
   "metadata": {},
   "outputs": [
    {
     "data": {
      "text/plain": [
       "Bán nhà riêng           315\n",
       "Bán nhà riêng\\n         245\n",
       "Tập thể, cư xá           69\n",
       "Chung cư                 59\n",
       "Bất động sản khác\\n      10\n",
       "Bất động sản khác         9\n",
       "Đất thổ cư                8\n",
       "Name: type_of_land, dtype: int64"
      ]
     },
     "execution_count": 101,
     "metadata": {},
     "output_type": "execute_result"
    }
   ],
   "source": [
    "df1['type_of_land'].value_counts()"
   ]
  },
  {
   "cell_type": "markdown",
   "metadata": {},
   "source": [
    "##### Tính toán giá/m2  ( đơn vị triệu/m2) với loại hình nhà ngõ"
   ]
  },
  {
   "cell_type": "code",
   "execution_count": 102,
   "metadata": {},
   "outputs": [
    {
     "name": "stderr",
     "output_type": "stream",
     "text": [
      "C:\\Users\\Admin\\AppData\\Local\\Temp/ipykernel_19744/2572679779.py:2: SettingWithCopyWarning: \n",
      "A value is trying to be set on a copy of a slice from a DataFrame.\n",
      "Try using .loc[row_indexer,col_indexer] = value instead\n",
      "\n",
      "See the caveats in the documentation: https://pandas.pydata.org/pandas-docs/stable/user_guide/indexing.html#returning-a-view-versus-a-copy\n",
      "  df1['price/m2'] = df1['price'] / df1['area']\n"
     ]
    },
    {
     "data": {
      "text/html": [
       "<div>\n",
       "<style scoped>\n",
       "    .dataframe tbody tr th:only-of-type {\n",
       "        vertical-align: middle;\n",
       "    }\n",
       "\n",
       "    .dataframe tbody tr th {\n",
       "        vertical-align: top;\n",
       "    }\n",
       "\n",
       "    .dataframe thead th {\n",
       "        text-align: right;\n",
       "    }\n",
       "</style>\n",
       "<table border=\"1\" class=\"dataframe\">\n",
       "  <thead>\n",
       "    <tr style=\"text-align: right;\">\n",
       "      <th></th>\n",
       "      <th>title</th>\n",
       "      <th>address</th>\n",
       "      <th>area</th>\n",
       "      <th>price</th>\n",
       "      <th>postDate</th>\n",
       "      <th>land_certificate</th>\n",
       "      <th>house_direction</th>\n",
       "      <th>balcony_direction</th>\n",
       "      <th>toilet</th>\n",
       "      <th>bedroom</th>\n",
       "      <th>floor</th>\n",
       "      <th>type_of_land</th>\n",
       "      <th>street_name</th>\n",
       "      <th>ward_name</th>\n",
       "      <th>district_name</th>\n",
       "      <th>city_name</th>\n",
       "      <th>lat</th>\n",
       "      <th>long</th>\n",
       "      <th>price/m2</th>\n",
       "    </tr>\n",
       "  </thead>\n",
       "  <tbody>\n",
       "    <tr>\n",
       "      <th>0</th>\n",
       "      <td>Bán nhà Trần Quang Diệu mới coong đẹp 50m2x6 t...</td>\n",
       "      <td>Đường Trần Quang Diệu, Phường Trung Liệt, Đốn...</td>\n",
       "      <td>50.0</td>\n",
       "      <td>14700.0</td>\n",
       "      <td>2021-01-01</td>\n",
       "      <td>Sổ đỏ</td>\n",
       "      <td>Đông-Nam</td>\n",
       "      <td>Đông-Nam</td>\n",
       "      <td>4.0</td>\n",
       "      <td>6.0</td>\n",
       "      <td>6.0</td>\n",
       "      <td>Bán nhà riêng\\n</td>\n",
       "      <td>Đường Trần Quang Diệu</td>\n",
       "      <td>Phường Trung Liệt</td>\n",
       "      <td>Quận Đống Đa</td>\n",
       "      <td>Thành phố Hà Nội</td>\n",
       "      <td>21.015698</td>\n",
       "      <td>105.824583</td>\n",
       "      <td>294.0</td>\n",
       "    </tr>\n",
       "  </tbody>\n",
       "</table>\n",
       "</div>"
      ],
      "text/plain": [
       "                                               title  \\\n",
       "0  Bán nhà Trần Quang Diệu mới coong đẹp 50m2x6 t...   \n",
       "\n",
       "                                             address  area    price  \\\n",
       "0  Đường Trần Quang Diệu, Phường Trung Liệt, Đốn...  50.0  14700.0   \n",
       "\n",
       "    postDate land_certificate house_direction balcony_direction  toilet  \\\n",
       "0 2021-01-01            Sổ đỏ        Đông-Nam          Đông-Nam     4.0   \n",
       "\n",
       "   bedroom  floor      type_of_land            street_name          ward_name  \\\n",
       "0      6.0    6.0  Bán nhà riêng\\n   Đường Trần Quang Diệu  Phường Trung Liệt   \n",
       "\n",
       "  district_name         city_name        lat        long  price/m2  \n",
       "0  Quận Đống Đa  Thành phố Hà Nội  21.015698  105.824583     294.0  "
      ]
     },
     "execution_count": 102,
     "metadata": {},
     "output_type": "execute_result"
    }
   ],
   "source": [
    "# tạo cột Price/m2 bằng cách lấy giá chia cho diện dích\n",
    "df1['price/m2'] = df1['price'] / df1['area']\n",
    "df1.head(1)"
   ]
  },
  {
   "cell_type": "code",
   "execution_count": 103,
   "metadata": {},
   "outputs": [
    {
     "name": "stdout",
     "output_type": "stream",
     "text": [
      "<class 'pandas.core.frame.DataFrame'>\n",
      "Int64Index: 715 entries, 0 to 998\n",
      "Data columns (total 19 columns):\n",
      " #   Column             Non-Null Count  Dtype         \n",
      "---  ------             --------------  -----         \n",
      " 0   title              715 non-null    object        \n",
      " 1   address            715 non-null    object        \n",
      " 2   area               714 non-null    float64       \n",
      " 3   price              715 non-null    float64       \n",
      " 4   postDate           715 non-null    datetime64[ns]\n",
      " 5   land_certificate   715 non-null    object        \n",
      " 6   house_direction    715 non-null    object        \n",
      " 7   balcony_direction  715 non-null    object        \n",
      " 8   toilet             715 non-null    float64       \n",
      " 9   bedroom            715 non-null    float64       \n",
      " 10  floor              715 non-null    float64       \n",
      " 11  type_of_land       715 non-null    object        \n",
      " 12  street_name        607 non-null    object        \n",
      " 13  ward_name          607 non-null    object        \n",
      " 14  district_name      715 non-null    object        \n",
      " 15  city_name          715 non-null    object        \n",
      " 16  lat                715 non-null    float64       \n",
      " 17  long               715 non-null    float64       \n",
      " 18  price/m2           714 non-null    float64       \n",
      "dtypes: datetime64[ns](1), float64(8), object(10)\n",
      "memory usage: 111.7+ KB\n"
     ]
    }
   ],
   "source": [
    "df1.info()"
   ]
  },
  {
   "cell_type": "markdown",
   "metadata": {},
   "source": [
    "#### Phát hiện giá trị ngoại lai của các thuộc tính: diện tích, giá/m2 bằng phương pháp IQR"
   ]
  },
  {
   "cell_type": "code",
   "execution_count": 104,
   "metadata": {},
   "outputs": [
    {
     "data": {
      "text/plain": [
       "<AxesSubplot:>"
      ]
     },
     "execution_count": 104,
     "metadata": {},
     "output_type": "execute_result"
    },
    {
     "data": {
      "image/png": "[encoded data removed]",
      "text/plain": [
       "<Figure size 720x576 with 1 Axes>"
      ]
     },
     "metadata": {
      "needs_background": "light"
     },
     "output_type": "display_data"
    }
   ],
   "source": [
    "# vẽ biểu đồ boxplot thể dữ giá trị ngoại lai của area và price/m2\n",
    "plt.figure(figsize=(10, 8))\n",
    "sns.boxplot(data=df1[['area', 'price/m2']], palette='Set2')"
   ]
  },
  {
   "cell_type": "code",
   "execution_count": 105,
   "metadata": {},
   "outputs": [
    {
     "data": {
      "text/plain": [
       "area          80.000000\n",
       "price       5650.000000\n",
       "toilet         1.000000\n",
       "bedroom        1.000000\n",
       "floor          0.000000\n",
       "lat            0.009864\n",
       "long           0.013283\n",
       "price/m2     129.099462\n",
       "dtype: float64"
      ]
     },
     "execution_count": 105,
     "metadata": {},
     "output_type": "execute_result"
    }
   ],
   "source": [
    "Q1 = df1.quantile(0.25)\n",
    "Q3 = df1.quantile(0.75)\n",
    "IQR = Q3 - Q1\n",
    "IQR"
   ]
  },
  {
   "cell_type": "markdown",
   "metadata": {},
   "source": [
    "#### Thực hiện loại bỏ các dòng dữ liệu ngoại lai"
   ]
  },
  {
   "cell_type": "code",
   "execution_count": 106,
   "metadata": {},
   "outputs": [
    {
     "name": "stderr",
     "output_type": "stream",
     "text": [
      "C:\\Users\\Admin\\AppData\\Local\\Temp/ipykernel_19744/2842209507.py:1: FutureWarning: Automatic reindexing on DataFrame vs Series comparisons is deprecated and will raise ValueError in a future version.  Do `left, right = left.align(right, axis=1, copy=False)` before e.g. `left == right`\n",
      "  df2 = df1[~((df1[['area','price/m2']] < (Q1 - 1.5 * IQR)) | (df1[['area','price/m2']] > (Q3 + 1.5 * IQR))).any(axis=1)]\n",
      "C:\\Users\\Admin\\AppData\\Local\\Temp/ipykernel_19744/2842209507.py:1: FutureWarning: Automatic reindexing on DataFrame vs Series comparisons is deprecated and will raise ValueError in a future version.  Do `left, right = left.align(right, axis=1, copy=False)` before e.g. `left == right`\n",
      "  df2 = df1[~((df1[['area','price/m2']] < (Q1 - 1.5 * IQR)) | (df1[['area','price/m2']] > (Q3 + 1.5 * IQR))).any(axis=1)]\n"
     ]
    }
   ],
   "source": [
    "df2 = df1[~((df1[['area','price/m2']] < (Q1 - 1.5 * IQR)) | (df1[['area','price/m2']] > (Q3 + 1.5 * IQR))).any(axis=1)]"
   ]
  },
  {
   "cell_type": "code",
   "execution_count": 107,
   "metadata": {},
   "outputs": [
    {
     "data": {
      "text/plain": [
       "(633, 19)"
      ]
     },
     "execution_count": 107,
     "metadata": {},
     "output_type": "execute_result"
    }
   ],
   "source": [
    "df2.shape"
   ]
  },
  {
   "cell_type": "code",
   "execution_count": 108,
   "metadata": {},
   "outputs": [
    {
     "data": {
      "text/plain": [
       "<AxesSubplot:>"
      ]
     },
     "execution_count": 108,
     "metadata": {},
     "output_type": "execute_result"
    },
    {
     "data": {
      "image/png": "[encoded data removed]",
      "text/plain": [
       "<Figure size 432x288 with 1 Axes>"
      ]
     },
     "metadata": {
      "needs_background": "light"
     },
     "output_type": "display_data"
    }
   ],
   "source": [
    "sns.boxplot(data=df2[['area', 'price/m2']], palette='Set2')"
   ]
  },
  {
   "cell_type": "markdown",
   "metadata": {},
   "source": [
    "#### Chuẩn hóa dữ liệu của tất cả các thuộc tính: price/m2 bằng các phương pháp: min-max scaling, z- score scaling, Robust scaling, và so sánh phân bố của thuộc tính này trước và sau khi chuẩn hóa"
   ]
  },
  {
   "cell_type": "code",
   "execution_count": 109,
   "metadata": {},
   "outputs": [],
   "source": [
    "from sklearn.preprocessing import StandardScaler, RobustScaler, MinMaxScaler"
   ]
  },
  {
   "cell_type": "code",
   "execution_count": 110,
   "metadata": {},
   "outputs": [
    {
     "data": {
      "text/plain": [
       "title                 0\n",
       "address               0\n",
       "area                  1\n",
       "price                 0\n",
       "postDate              0\n",
       "land_certificate      0\n",
       "house_direction       0\n",
       "balcony_direction     0\n",
       "toilet                0\n",
       "bedroom               0\n",
       "floor                 0\n",
       "type_of_land          0\n",
       "street_name          90\n",
       "ward_name            91\n",
       "district_name         0\n",
       "city_name             0\n",
       "lat                   0\n",
       "long                  0\n",
       "price/m2              1\n",
       "dtype: int64"
      ]
     },
     "execution_count": 110,
     "metadata": {},
     "output_type": "execute_result"
    }
   ],
   "source": [
    "df2.isna().sum()"
   ]
  },
  {
   "cell_type": "code",
   "execution_count": 111,
   "metadata": {},
   "outputs": [
    {
     "name": "stderr",
     "output_type": "stream",
     "text": [
      "C:\\Users\\Admin\\AppData\\Local\\Temp/ipykernel_19744/3356408160.py:1: SettingWithCopyWarning: \n",
      "A value is trying to be set on a copy of a slice from a DataFrame\n",
      "\n",
      "See the caveats in the documentation: https://pandas.pydata.org/pandas-docs/stable/user_guide/indexing.html#returning-a-view-versus-a-copy\n",
      "  df2.dropna(subset=['price/m2'], inplace=True)\n"
     ]
    },
    {
     "data": {
      "text/plain": [
       "title                 0\n",
       "address               0\n",
       "area                  0\n",
       "price                 0\n",
       "postDate              0\n",
       "land_certificate      0\n",
       "house_direction       0\n",
       "balcony_direction     0\n",
       "toilet                0\n",
       "bedroom               0\n",
       "floor                 0\n",
       "type_of_land          0\n",
       "street_name          90\n",
       "ward_name            91\n",
       "district_name         0\n",
       "city_name             0\n",
       "lat                   0\n",
       "long                  0\n",
       "price/m2              0\n",
       "dtype: int64"
      ]
     },
     "execution_count": 111,
     "metadata": {},
     "output_type": "execute_result"
    }
   ],
   "source": [
    "df2.dropna(subset=['price/m2'], inplace=True)\n",
    "df2.isna().sum()"
   ]
  },
  {
   "cell_type": "code",
   "execution_count": 112,
   "metadata": {},
   "outputs": [
    {
     "data": {
      "text/plain": [
       "<AxesSubplot:xlabel='price/m2', ylabel='Density'>"
      ]
     },
     "execution_count": 112,
     "metadata": {},
     "output_type": "execute_result"
    },
    {
     "data": {
      "image/png": "[encoded data removed]",
      "text/plain": [
       "<Figure size 432x288 with 1 Axes>"
      ]
     },
     "metadata": {
      "needs_background": "light"
     },
     "output_type": "display_data"
    }
   ],
   "source": [
    "sns.kdeplot(df2['price/m2'], shade=True)"
   ]
  },
  {
   "cell_type": "code",
   "execution_count": 113,
   "metadata": {},
   "outputs": [
    {
     "name": "stderr",
     "output_type": "stream",
     "text": [
      "d:\\Python\\lib\\site-packages\\seaborn\\_decorators.py:36: FutureWarning: Pass the following variable as a keyword arg: x. From version 0.12, the only valid positional argument will be `data`, and passing other arguments without an explicit keyword will result in an error or misinterpretation.\n",
      "  warnings.warn(\n"
     ]
    },
    {
     "data": {
      "text/plain": [
       "<AxesSubplot:xlabel='price/m2'>"
      ]
     },
     "execution_count": 113,
     "metadata": {},
     "output_type": "execute_result"
    },
    {
     "data": {
      "image/png": "[encoded data removed]",
      "text/plain": [
       "<Figure size 432x288 with 1 Axes>"
      ]
     },
     "metadata": {
      "needs_background": "light"
     },
     "output_type": "display_data"
    }
   ],
   "source": [
    "sns.boxplot(df2['price/m2'])"
   ]
  },
  {
   "cell_type": "markdown",
   "metadata": {},
   "source": [
    "##### Chuẩn hoá z- score scaling"
   ]
  },
  {
   "cell_type": "code",
   "execution_count": 114,
   "metadata": {},
   "outputs": [],
   "source": [
    "# Khai báo đối tượng StandardScaler\n",
    "s_scaler = StandardScaler()\n",
    "\n",
    "# Chuẩn hóa dữ liệu trong df với StandardScaler\n",
    "Z_score = s_scaler.fit_transform(df2['price/m2'].values.reshape(-1, 1))"
   ]
  },
  {
   "cell_type": "code",
   "execution_count": 115,
   "metadata": {},
   "outputs": [
    {
     "name": "stderr",
     "output_type": "stream",
     "text": [
      "C:\\Users\\Admin\\AppData\\Local\\Temp/ipykernel_19744/3761087625.py:1: SettingWithCopyWarning: \n",
      "A value is trying to be set on a copy of a slice from a DataFrame.\n",
      "Try using .loc[row_indexer,col_indexer] = value instead\n",
      "\n",
      "See the caveats in the documentation: https://pandas.pydata.org/pandas-docs/stable/user_guide/indexing.html#returning-a-view-versus-a-copy\n",
      "  df2['Z_score'] = Z_score\n"
     ]
    },
    {
     "data": {
      "text/plain": [
       "0      2.540669\n",
       "2     -0.379746\n",
       "3      0.995324\n",
       "7      0.122035\n",
       "8     -0.047484\n",
       "         ...   \n",
       "989    0.003969\n",
       "990   -1.064535\n",
       "991   -1.054540\n",
       "994    0.154664\n",
       "998   -0.753270\n",
       "Name: Z_score, Length: 632, dtype: float64"
      ]
     },
     "execution_count": 115,
     "metadata": {},
     "output_type": "execute_result"
    }
   ],
   "source": [
    "df2['Z_score'] = Z_score\n",
    "df2['Z_score']"
   ]
  },
  {
   "cell_type": "code",
   "execution_count": 116,
   "metadata": {},
   "outputs": [
    {
     "data": {
      "image/png": "[encoded data removed]",
      "text/plain": [
       "<Figure size 432x288 with 1 Axes>"
      ]
     },
     "metadata": {
      "needs_background": "light"
     },
     "output_type": "display_data"
    }
   ],
   "source": [
    "sns.kdeplot(df2['Z_score'], shade=True);"
   ]
  },
  {
   "cell_type": "markdown",
   "metadata": {},
   "source": [
    "##### Chuẩn hoá dữ liệu với RobustScaler"
   ]
  },
  {
   "cell_type": "code",
   "execution_count": 117,
   "metadata": {},
   "outputs": [
    {
     "name": "stderr",
     "output_type": "stream",
     "text": [
      "C:\\Users\\Admin\\AppData\\Local\\Temp/ipykernel_19744/2474722309.py:3: SettingWithCopyWarning: \n",
      "A value is trying to be set on a copy of a slice from a DataFrame.\n",
      "Try using .loc[row_indexer,col_indexer] = value instead\n",
      "\n",
      "See the caveats in the documentation: https://pandas.pydata.org/pandas-docs/stable/user_guide/indexing.html#returning-a-view-versus-a-copy\n",
      "  df2['Robust_Scaler'] = Robust_Scaler\n"
     ]
    },
    {
     "data": {
      "text/plain": [
       "0      1.709715\n",
       "2     -0.184268\n",
       "3      0.707509\n",
       "7      0.141152\n",
       "8      0.031214\n",
       "         ...   \n",
       "989    0.064583\n",
       "990   -0.628376\n",
       "991   -0.621895\n",
       "994    0.162313\n",
       "998   -0.426511\n",
       "Name: Robust_Scaler, Length: 632, dtype: float64"
      ]
     },
     "execution_count": 117,
     "metadata": {},
     "output_type": "execute_result"
    }
   ],
   "source": [
    "s_scaler = RobustScaler()\n",
    "Robust_Scaler = s_scaler.fit_transform(df2['price/m2'].values.reshape(-1, 1))\n",
    "df2['Robust_Scaler'] = Robust_Scaler\n",
    "df2['Robust_Scaler']"
   ]
  },
  {
   "cell_type": "code",
   "execution_count": 118,
   "metadata": {},
   "outputs": [
    {
     "data": {
      "image/png": "[encoded data removed]",
      "text/plain": [
       "<Figure size 432x288 with 1 Axes>"
      ]
     },
     "metadata": {
      "needs_background": "light"
     },
     "output_type": "display_data"
    }
   ],
   "source": [
    "sns.kdeplot(df2['Robust_Scaler'], shade=True);"
   ]
  },
  {
   "cell_type": "markdown",
   "metadata": {},
   "source": [
    "##### Chuẩn hoá dữ liệu với MinmaxScaler"
   ]
  },
  {
   "cell_type": "code",
   "execution_count": 119,
   "metadata": {},
   "outputs": [
    {
     "name": "stderr",
     "output_type": "stream",
     "text": [
      "C:\\Users\\Admin\\AppData\\Local\\Temp/ipykernel_19744/3001519566.py:3: SettingWithCopyWarning: \n",
      "A value is trying to be set on a copy of a slice from a DataFrame.\n",
      "Try using .loc[row_indexer,col_indexer] = value instead\n",
      "\n",
      "See the caveats in the documentation: https://pandas.pydata.org/pandas-docs/stable/user_guide/indexing.html#returning-a-view-versus-a-copy\n",
      "  df2['MinMax_Scaler'] = MinMax_Scaler\n"
     ]
    },
    {
     "data": {
      "text/plain": [
       "0      0.888709\n",
       "2      0.190433\n",
       "3      0.519214\n",
       "7      0.310409\n",
       "8      0.269877\n",
       "         ...   \n",
       "989    0.282180\n",
       "990    0.026699\n",
       "991    0.029088\n",
       "994    0.318211\n",
       "998    0.101123\n",
       "Name: MinMax_Scaler, Length: 632, dtype: float64"
      ]
     },
     "execution_count": 119,
     "metadata": {},
     "output_type": "execute_result"
    }
   ],
   "source": [
    "s_scaler = MinMaxScaler()\n",
    "MinMax_Scaler = s_scaler.fit_transform(df2['price/m2'].values.reshape(-1, 1))\n",
    "df2['MinMax_Scaler'] = MinMax_Scaler\n",
    "df2['MinMax_Scaler']"
   ]
  },
  {
   "cell_type": "code",
   "execution_count": 120,
   "metadata": {},
   "outputs": [
    {
     "data": {
      "image/png": "[encoded data removed]",
      "text/plain": [
       "<Figure size 432x288 with 1 Axes>"
      ]
     },
     "metadata": {
      "needs_background": "light"
     },
     "output_type": "display_data"
    }
   ],
   "source": [
    "sns.kdeplot(df2['MinMax_Scaler'], shade=True);"
   ]
  },
  {
   "cell_type": "code",
   "execution_count": 121,
   "metadata": {},
   "outputs": [
    {
     "data": {
      "text/html": [
       "<div>\n",
       "<style scoped>\n",
       "    .dataframe tbody tr th:only-of-type {\n",
       "        vertical-align: middle;\n",
       "    }\n",
       "\n",
       "    .dataframe tbody tr th {\n",
       "        vertical-align: top;\n",
       "    }\n",
       "\n",
       "    .dataframe thead th {\n",
       "        text-align: right;\n",
       "    }\n",
       "</style>\n",
       "<table border=\"1\" class=\"dataframe\">\n",
       "  <thead>\n",
       "    <tr style=\"text-align: right;\">\n",
       "      <th></th>\n",
       "      <th>Z_score</th>\n",
       "      <th>Robust_Scaler</th>\n",
       "      <th>MinMax_Scaler</th>\n",
       "    </tr>\n",
       "  </thead>\n",
       "  <tbody>\n",
       "    <tr>\n",
       "      <th>0</th>\n",
       "      <td>2.540669</td>\n",
       "      <td>1.709715</td>\n",
       "      <td>0.888709</td>\n",
       "    </tr>\n",
       "    <tr>\n",
       "      <th>2</th>\n",
       "      <td>-0.379746</td>\n",
       "      <td>-0.184268</td>\n",
       "      <td>0.190433</td>\n",
       "    </tr>\n",
       "    <tr>\n",
       "      <th>3</th>\n",
       "      <td>0.995324</td>\n",
       "      <td>0.707509</td>\n",
       "      <td>0.519214</td>\n",
       "    </tr>\n",
       "    <tr>\n",
       "      <th>7</th>\n",
       "      <td>0.122035</td>\n",
       "      <td>0.141152</td>\n",
       "      <td>0.310409</td>\n",
       "    </tr>\n",
       "    <tr>\n",
       "      <th>8</th>\n",
       "      <td>-0.047484</td>\n",
       "      <td>0.031214</td>\n",
       "      <td>0.269877</td>\n",
       "    </tr>\n",
       "    <tr>\n",
       "      <th>...</th>\n",
       "      <td>...</td>\n",
       "      <td>...</td>\n",
       "      <td>...</td>\n",
       "    </tr>\n",
       "    <tr>\n",
       "      <th>989</th>\n",
       "      <td>0.003969</td>\n",
       "      <td>0.064583</td>\n",
       "      <td>0.282180</td>\n",
       "    </tr>\n",
       "    <tr>\n",
       "      <th>990</th>\n",
       "      <td>-1.064535</td>\n",
       "      <td>-0.628376</td>\n",
       "      <td>0.026699</td>\n",
       "    </tr>\n",
       "    <tr>\n",
       "      <th>991</th>\n",
       "      <td>-1.054540</td>\n",
       "      <td>-0.621895</td>\n",
       "      <td>0.029088</td>\n",
       "    </tr>\n",
       "    <tr>\n",
       "      <th>994</th>\n",
       "      <td>0.154664</td>\n",
       "      <td>0.162313</td>\n",
       "      <td>0.318211</td>\n",
       "    </tr>\n",
       "    <tr>\n",
       "      <th>998</th>\n",
       "      <td>-0.753270</td>\n",
       "      <td>-0.426511</td>\n",
       "      <td>0.101123</td>\n",
       "    </tr>\n",
       "  </tbody>\n",
       "</table>\n",
       "<p>632 rows × 3 columns</p>\n",
       "</div>"
      ],
      "text/plain": [
       "      Z_score  Robust_Scaler  MinMax_Scaler\n",
       "0    2.540669       1.709715       0.888709\n",
       "2   -0.379746      -0.184268       0.190433\n",
       "3    0.995324       0.707509       0.519214\n",
       "7    0.122035       0.141152       0.310409\n",
       "8   -0.047484       0.031214       0.269877\n",
       "..        ...            ...            ...\n",
       "989  0.003969       0.064583       0.282180\n",
       "990 -1.064535      -0.628376       0.026699\n",
       "991 -1.054540      -0.621895       0.029088\n",
       "994  0.154664       0.162313       0.318211\n",
       "998 -0.753270      -0.426511       0.101123\n",
       "\n",
       "[632 rows x 3 columns]"
      ]
     },
     "execution_count": 121,
     "metadata": {},
     "output_type": "execute_result"
    }
   ],
   "source": [
    "df2[['Z_score','Robust_Scaler','MinMax_Scaler']]"
   ]
  },
  {
   "cell_type": "markdown",
   "metadata": {},
   "source": [
    "#### Nhận xét : Hình dạng biểu đồ và phân bố của thuộc tính price/m2 trước và sau khi chuẩn hoá không thay đổi"
   ]
  }
 ],
 "metadata": {
  "interpreter": {
   "hash": "2469a70536e4d2335a2ea8907942d0699c37342a371ac185bdb5b0aa6f073890"
  },
  "kernelspec": {
   "display_name": "Python 3.9.2 64-bit",
   "language": "python",
   "name": "python3"
  },
  "language_info": {
   "codemirror_mode": {
    "name": "ipython",
    "version": 3
   },
   "file_extension": ".py",
   "mimetype": "text/x-python",
   "name": "python",
   "nbconvert_exporter": "python",
   "pygments_lexer": "ipython3",
   "version": "3.9.2"
  },
  "orig_nbformat": 4
 },
 "nbformat": 4,
 "nbformat_minor": 2
}
